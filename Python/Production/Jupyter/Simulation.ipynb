{
 "cells": [
  {
   "cell_type": "code",
   "execution_count": 36,
   "metadata": {},
   "outputs": [
    {
     "name": "stdout",
     "output_type": "stream",
     "text": [
      "importing Jupyter notebook from Model.ipynb\n",
      "importing Jupyter notebook from Analytics.ipynb\n"
     ]
    }
   ],
   "source": [
    "import datetime\n",
    "import import_ipynb\n",
    "import importlib\n",
    "import Model\n",
    "import pandas\n",
    "import yfinance as yf\n",
    "\n",
    "importlib.reload(Model)\n",
    "from Model import train_model\n",
    "from Model import build_test_data\n",
    "from sklearn.tree import DecisionTreeRegressor  \n",
    "from dateutil.relativedelta import relativedelta\n",
    "from pandas_datareader import data as pdr\n",
    "\n",
    "\n",
    "\n",
    "# Override yFinance with Pandas\n",
    "yf.pdr_override() # <-- Here is the fix"
   ]
  },
  {
   "cell_type": "code",
   "execution_count": 40,
   "metadata": {},
   "outputs": [],
   "source": [
    "def run_simulation(StockTickers = [], SimulationYears = 1, StartingFunds = 1000.00):\n",
    "    \n",
    "    TotalCash = StartingFunds\n",
    "    \n",
    "    # create a regressor object \n",
    "    model1 = DecisionTreeRegressor(random_state = 0) \n",
    "    model2 = DecisionTreeRegressor(random_state = 0) \n",
    "    model3 = DecisionTreeRegressor(random_state = 0) \n",
    "    model4 = DecisionTreeRegressor(random_state = 0) \n",
    "    model5 = DecisionTreeRegressor(random_state = 0) \n",
    "    \n",
    "    # train our master model\n",
    "    #for ticker in StockTickers:\n",
    "    model1 = train_model (model1, StockTickers[0])\n",
    "    model2 = train_model (model2, StockTickers[1])\n",
    "    model3 = train_model (model3, StockTickers[2])\n",
    "    model4 = train_model (model4, StockTickers[3])\n",
    "    model5 = train_model (model5, StockTickers[4])\n",
    "    \n",
    "    #run purchase / sell simulation     \n",
    "    total = simulate_market (model1, model2, model3, model4, model5, StockTickers, SimulationYears, StartingFunds)\n",
    "    \n",
    "    return total"
   ]
  },
  {
   "cell_type": "code",
   "execution_count": 49,
   "metadata": {},
   "outputs": [],
   "source": [
    "def simulate_market (model1, model2, model3, model4, model5, StockTickers, SimulationYears, StartingFunds):\n",
    "    \n",
    "    # Okay, our model is already trained. Now we just gotta sick her on some data! \n",
    "    Total_Funds = StartingFunds\n",
    "    \n",
    "    # Test data shape should be (len(data), number of stocks * 9)\n",
    "    # test_data.shape = (2607, 40)\n",
    "    # Each ticker is 8 data points long.\n",
    "    test_data = build_test_data(StockTickers)\n",
    "    \n",
    "    # Start SimulationYears * 365 days ago.\n",
    "    # Max SimulationYears = 7\n",
    "    i = 0\n",
    "    for days in reversed(range (25, SimulationYears*365, 7)):\n",
    "        Total_Funds = purchase_sell_stocks (model1, model2, model3, model4, model5, test_data, days, Total_Funds)\n",
    "        i+=1\n",
    "        if (i %52 == 0):\n",
    "            print(Total_Funds)\n",
    "    \n",
    "    return Total_Funds"
   ]
  },
  {
   "cell_type": "code",
   "execution_count": 45,
   "metadata": {},
   "outputs": [],
   "source": [
    "def purchase_sell_stocks(model1, model2, model3, model4, model5, test_data, days, Total_Funds):\n",
    "    \n",
    "    number_of_stocks_purchased = 0\n",
    "    \n",
    "    total_gains_1 = model1.predict(test_data[0:len(test_data) - days, 0:8])[-1] - test_data[len(test_data) - days - 5, 7]\n",
    "    total_gains_2 = model2.predict(test_data[0:len(test_data) - days, 8:16])[-1] - test_data[len(test_data) - days - 5, 15]\n",
    "    total_gains_3 = model3.predict(test_data[0:len(test_data) - days, 16:24])[-1] - test_data[len(test_data) - days - 5, 23]\n",
    "    total_gains_4 = model4.predict(test_data[0:len(test_data) - days, 24:32])[-1] - test_data[len(test_data) - days - 5, 31]\n",
    "    total_gains_5 = model5.predict(test_data[0:len(test_data) - days, 32:40])[-1] - test_data[len(test_data) - days - 5, 39]\n",
    "    \n",
    "    \n",
    "    maximum_gains = max(total_gains_1, total_gains_2, total_gains_3, total_gains_4, total_gains_5)\n",
    "    \n",
    "    if (maximum_gains < 0):\n",
    "        return Total_Funds\n",
    "    \n",
    "    elif (maximum_gains == total_gains_1):\n",
    "        number_of_stocks_purchased = Total_Funds / test_data[len(test_data) - days, 7]\n",
    "        Total_Funds = number_of_stocks_purchased * test_data[len(test_data) - days + 5, 7]\n",
    "        \n",
    "    elif (maximum_gains == total_gains_2):\n",
    "        number_of_stocks_purchased = Total_Funds / test_data[len(test_data) - days, 15]\n",
    "        Total_Funds = number_of_stocks_purchased * test_data[len(test_data) - days + 5, 15]       \n",
    "        \n",
    "    elif (maximum_gains == total_gains_3):\n",
    "        number_of_stocks_purchased = Total_Funds / test_data[len(test_data) - days, 23]\n",
    "        Total_Funds = number_of_stocks_purchased * test_data[len(test_data) - days + 5, 23]\n",
    "        \n",
    "    elif (maximum_gains == total_gains_4):\n",
    "        number_of_stocks_purchased = Total_Funds / test_data[len(test_data) - days, 31]\n",
    "        Total_Funds = number_of_stocks_purchased * test_data[len(test_data) - days + 5, 31]\n",
    "        \n",
    "    elif (maximum_gains == total_gains_5):\n",
    "        number_of_stocks_purchased = Total_Funds / test_data[len(test_data) - days, 39]\n",
    "        Total_Funds = number_of_stocks_purchased * test_data[len(test_data) - days + 5, 39]\n",
    "    \n",
    "    \n",
    "    #print(maximum_gains)\n",
    "    return Total_Funds"
   ]
  },
  {
   "cell_type": "code",
   "execution_count": null,
   "metadata": {},
   "outputs": [],
   "source": []
  },
  {
   "cell_type": "code",
   "execution_count": null,
   "metadata": {},
   "outputs": [],
   "source": []
  }
 ],
 "metadata": {
  "kernelspec": {
   "display_name": "Python 3",
   "language": "python",
   "name": "python3"
  },
  "language_info": {
   "codemirror_mode": {
    "name": "ipython",
    "version": 3
   },
   "file_extension": ".py",
   "mimetype": "text/x-python",
   "name": "python",
   "nbconvert_exporter": "python",
   "pygments_lexer": "ipython3",
   "version": "3.8.2"
  }
 },
 "nbformat": 4,
 "nbformat_minor": 4
}
