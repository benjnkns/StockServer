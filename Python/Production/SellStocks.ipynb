{
 "cells": [
  {
   "cell_type": "code",
   "execution_count": 4,
   "metadata": {},
   "outputs": [
    {
     "name": "stdout",
     "output_type": "stream",
     "text": [
      "importing Jupyter notebook from Main.ipynb\n",
      "importing Jupyter notebook from Engine.ipynb\n",
      "importing Jupyter notebook from Data.ipynb\n"
     ]
    },
    {
     "name": "stderr",
     "output_type": "stream",
     "text": [
      "/Library/Frameworks/Python.framework/Versions/3.8/lib/python3.8/site-packages/pandas_datareader/compat/__init__.py:7: FutureWarning: pandas.util.testing is deprecated. Use the functions in the public API at pandas.testing instead.\n",
      "  from pandas.util.testing import assert_frame_equal\n"
     ]
    },
    {
     "name": "stdout",
     "output_type": "stream",
     "text": [
      "importing Jupyter notebook from Analytics.ipynb\n",
      "importing Jupyter notebook from Analytics.ipynb\n",
      "importing Jupyter notebook from Data.ipynb\n",
      "importing Jupyter notebook from Analytics.ipynb\n",
      "importing Jupyter notebook from Models.ipynb\n",
      "importing Jupyter notebook from Models.ipynb\n",
      "importing Jupyter notebook from Engine.ipynb\n",
      "importing Jupyter notebook from Data.ipynb\n",
      "importing Jupyter notebook from Analytics.ipynb\n",
      "importing Jupyter notebook from Models.ipynb\n"
     ]
    }
   ],
   "source": [
    "import importlib\n",
    "import import_ipynb\n",
    "\n",
    "#MY STUFF\n",
    "import Main\n",
    "importlib.reload(Main)\n",
    "from Main import sell"
   ]
  },
  {
   "cell_type": "code",
   "execution_count": null,
   "metadata": {},
   "outputs": [
    {
     "name": "stdout",
     "output_type": "stream",
     "text": [
      "2020-11-09\n",
      "Loggin into Robinhood...\n"
     ]
    }
   ],
   "source": [
    "sell()"
   ]
  },
  {
   "cell_type": "code",
   "execution_count": null,
   "metadata": {},
   "outputs": [],
   "source": [
    "#YAAAAAYYYYYYY"
   ]
  }
 ],
 "metadata": {
  "kernelspec": {
   "display_name": "Python 3",
   "language": "python",
   "name": "python3"
  },
  "language_info": {
   "codemirror_mode": {
    "name": "ipython",
    "version": 3
   },
   "file_extension": ".py",
   "mimetype": "text/x-python",
   "name": "python",
   "nbconvert_exporter": "python",
   "pygments_lexer": "ipython3",
   "version": "3.8.2"
  }
 },
 "nbformat": 4,
 "nbformat_minor": 4
}
