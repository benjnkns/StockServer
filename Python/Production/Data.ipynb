{
 "cells": [
  {
   "cell_type": "markdown",
   "metadata": {},
   "source": [
    "### This file compiles data."
   ]
  },
  {
   "cell_type": "code",
   "execution_count": 2,
   "metadata": {},
   "outputs": [
    {
     "name": "stderr",
     "output_type": "stream",
     "text": [
      "/Library/Frameworks/Python.framework/Versions/3.8/lib/python3.8/site-packages/pandas_datareader/compat/__init__.py:7: FutureWarning: pandas.util.testing is deprecated. Use the functions in the public API at pandas.testing instead.\n",
      "  from pandas.util.testing import assert_frame_equal\n"
     ]
    },
    {
     "name": "stdout",
     "output_type": "stream",
     "text": [
      "importing Jupyter notebook from Analytics.ipynb\n",
      "importing Jupyter notebook from Analytics.ipynb\n"
     ]
    }
   ],
   "source": [
    "import importlib\n",
    "import import_ipynb\n",
    "import datetime\n",
    "import numpy\n",
    "import pandas\n",
    "import yfinance as yf\n",
    "from datetime import timedelta\n",
    "from pandas_datareader import data as pdr\n",
    "from sklearn.model_selection import train_test_split\n",
    "from sklearn.preprocessing import scale, StandardScaler\n",
    "\n",
    "import Analytics\n",
    "importlib.reload(Analytics)\n",
    "from Analytics import Simple_Moving_Average \n",
    "from Analytics import Simple_Moving_Average_20Day\n",
    "from Analytics import Relative_Strength_Index\n",
    "from Analytics import Standard_Deviation\n",
    "from Analytics import Bandwidth\n",
    "from Analytics import Rate_Of_Change\n",
    "from Analytics import Rate_Of_Change_20Day\n",
    "\n",
    "# Override yFinance with Pandas\n",
    "yf.pdr_override() # <-- Here is the fix"
   ]
  },
  {
   "cell_type": "code",
   "execution_count": 3,
   "metadata": {},
   "outputs": [],
   "source": [
    "def get_ticker_data(ticker, start_date, end_date):\n",
    "    # Grab data\n",
    "    data = pdr.get_data_yahoo(str(ticker), start = start_date, end = end_date)\n",
    "    return data"
   ]
  },
  {
   "cell_type": "code",
   "execution_count": 8,
   "metadata": {},
   "outputs": [],
   "source": [
    "def build_training_set(ticker, date, days_out):\n",
    "    \n",
    "    data = get_ticker_data(ticker, datetime.datetime(2010, 1, 1), date)\n",
    "    data = data.values\n",
    "    \n",
    "    #days_out = date - datetime.date.today()\n",
    "    #days_out = days_out.days\n",
    "    \n",
    "    closing_prices = scale_data(data[:,3])\n",
    "    closing_prices_future = closing_prices[days_out:]\n",
    "\n",
    "    \n",
    "    # Calculate Analytics\n",
    "    SMA = Simple_Moving_Average(closing_prices)\n",
    "    SMA20 = Simple_Moving_Average_20Day(closing_prices)\n",
    "    RSI = Relative_Strength_Index(closing_prices)\n",
    "    STD = Standard_Deviation(closing_prices)\n",
    "    BW = Bandwidth(closing_prices, STD)\n",
    "    ROC = Rate_Of_Change(closing_prices)\n",
    "    ROC100 = Rate_Of_Change_20Day(closing_prices)\n",
    "    \n",
    "    # Trim Data\n",
    "    # Trim the first 20 entries because ROC20 is all zeros\n",
    "    # Trim the last 30 entires.\n",
    "    SMA    = SMA    [20:-30]\n",
    "    SMA20  = SMA20  [20:-30]\n",
    "    RSI    = RSI    [20:-30]\n",
    "    STD    = STD    [20:-30]\n",
    "    BW     = BW     [20:-30]\n",
    "    ROC    = ROC    [20:-30]\n",
    "    ROC100 = ROC100 [20:-30]\n",
    "    closing_prices = closing_prices [20:-30]\n",
    "    closing_prices_future = closing_prices_future[20:-(30 - days_out)]\n",
    "    \n",
    "    \n",
    "    # Reshape Data\n",
    "    SMA      = numpy.reshape(SMA, (len(SMA), 1))\n",
    "    SMA20    = numpy.reshape(SMA20, (len(SMA20), 1))\n",
    "    RSI      = numpy.reshape(RSI, (len(RSI), 1))\n",
    "    STD      = numpy.reshape(STD, (len(STD), 1))\n",
    "    BW       = numpy.reshape(BW, (len(BW), 1))\n",
    "    ROC      = numpy.reshape(ROC, (len(ROC), 1))\n",
    "    ROC100   = numpy.reshape(ROC100, (len(ROC100), 1))\n",
    "    closing_prices        = numpy.reshape(closing_prices, (len(closing_prices), 1))\n",
    "    closing_prices_future = numpy.reshape(closing_prices_future, (len(closing_prices_future), 1))\n",
    "    \n",
    "\n",
    "#    print(SMA.shape)\n",
    "#    print(SMA20.shape)\n",
    "#    print(RSI.shape)\n",
    "#    print(STD.shape)    \n",
    "#    print(BW.shape)\n",
    "#    print(ROC.shape)    \n",
    "#    print(ROC100.shape)    \n",
    "#    print(closing_prices.shape)    \n",
    "#    print(closing_prices_5_day.shape)    \n",
    "    \n",
    "    \n",
    "    \n",
    "    X = numpy.concatenate((SMA, SMA20, RSI, STD, BW, ROC, ROC100, closing_prices), axis = 1)\n",
    "    Y = closing_prices_future\n",
    "    \n",
    "    X, x_dont_use, Y, y_dont_use = train_test_split(X, Y, test_size=.001, random_state=47)\n",
    "\n",
    "#    print(X.shape)\n",
    "#    print(Y.shape)\n",
    "    \n",
    "    return X.astype(int), Y.astype(int)\n",
    "    "
   ]
  },
  {
   "cell_type": "code",
   "execution_count": 31,
   "metadata": {},
   "outputs": [],
   "source": [
    "def build_prediction_set(ticker, date, days_out):\n",
    "    \n",
    "    #Get date from 50 days ago until today, because we need to subtrac the first 20 records lol.\n",
    "    data = get_ticker_data(ticker, date - timedelta(days = 50), date)\n",
    "    data = data.values\n",
    "    \n",
    "    #Calcualte analytics\n",
    "    closing_prices = scale_data(data[:,3])\n",
    "    Today_Scaled = closing_prices[-1]\n",
    "    last_15_days_scaled = closing_prices[-15:]\n",
    "    \n",
    "    \n",
    "    # Calculate Analytics\n",
    "    SMA = Simple_Moving_Average(closing_prices)\n",
    "    SMA20 = Simple_Moving_Average_20Day(closing_prices)\n",
    "    RSI = Relative_Strength_Index(closing_prices)\n",
    "    STD = Standard_Deviation(closing_prices)\n",
    "    BW = Bandwidth(closing_prices, STD)\n",
    "    ROC = Rate_Of_Change(closing_prices)\n",
    "    ROC100 = Rate_Of_Change_20Day(closing_prices)\n",
    "    \n",
    "    # Trim Data\n",
    "    # Trim the first 20 entries because ROC20 is all zeros\n",
    "    # Trim the last 30 entires.\n",
    "    SMA    = SMA    [20:]\n",
    "    SMA20  = SMA20  [20:]\n",
    "    RSI    = RSI    [20:]\n",
    "    STD    = STD    [20:]\n",
    "    BW     = BW     [20:]\n",
    "    ROC    = ROC    [20:]\n",
    "    ROC100 = ROC100 [20:]\n",
    "    closing_prices = closing_prices [20:]\n",
    "    \n",
    "    \n",
    "    # Reshape Data\n",
    "    SMA      = numpy.reshape(SMA, (len(SMA), 1))\n",
    "    SMA20    = numpy.reshape(SMA20, (len(SMA20), 1))\n",
    "    RSI      = numpy.reshape(RSI, (len(RSI), 1))\n",
    "    STD      = numpy.reshape(STD, (len(STD), 1))\n",
    "    BW       = numpy.reshape(BW, (len(BW), 1))\n",
    "    ROC      = numpy.reshape(ROC, (len(ROC), 1))\n",
    "    ROC100   = numpy.reshape(ROC100, (len(ROC100), 1))\n",
    "    closing_prices = numpy.reshape(closing_prices, (len(closing_prices), 1))\n",
    "    \n",
    "    \n",
    "\n",
    "#    print(SMA.shape)\n",
    "#    print(SMA20.shape)\n",
    "#    print(RSI.shape)\n",
    "#    print(STD.shape)    \n",
    "#    print(BW.shape)\n",
    "#    print(ROC.shape)    \n",
    "#    print(ROC100.shape)    \n",
    "#    print(closing_prices.shape)    \n",
    "#    print(closing_prices_5_day.shape)    \n",
    "    \n",
    "    \n",
    "    #Build the prediction set.\n",
    "        \n",
    "    X = numpy.concatenate((SMA, SMA20, RSI, STD, BW, ROC, ROC100, closing_prices), axis = 1)\n",
    "    \n",
    "    return X.astype(int),  Today_Scaled\n",
    "    "
   ]
  },
  {
   "cell_type": "code",
   "execution_count": 32,
   "metadata": {},
   "outputs": [],
   "source": [
    "def scale_data(data):\n",
    "    return scale(data)\n",
    "    #return data"
   ]
  },
  {
   "cell_type": "code",
   "execution_count": 33,
   "metadata": {},
   "outputs": [],
   "source": [
    "def unscale_data(data):\n",
    "    return StandardScaler.inverse_scale(data)\n",
    "    #return data"
   ]
  },
  {
   "cell_type": "code",
   "execution_count": 54,
   "metadata": {},
   "outputs": [],
   "source": [
    "# WOOT"
   ]
  }
 ],
 "metadata": {
  "kernelspec": {
   "display_name": "Python 3",
   "language": "python",
   "name": "python3"
  },
  "language_info": {
   "codemirror_mode": {
    "name": "ipython",
    "version": 3
   },
   "file_extension": ".py",
   "mimetype": "text/x-python",
   "name": "python",
   "nbconvert_exporter": "python",
   "pygments_lexer": "ipython3",
   "version": "3.8.2"
  }
 },
 "nbformat": 4,
 "nbformat_minor": 4
}
