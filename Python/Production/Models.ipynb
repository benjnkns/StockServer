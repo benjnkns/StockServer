{
 "cells": [
  {
   "cell_type": "code",
   "execution_count": 25,
   "metadata": {},
   "outputs": [],
   "source": [
    "# Python Stuff\n",
    "import import_ipynb\n",
    "import importlib\n",
    "import datetime\n",
    "\n",
    "\n",
    "from sklearn                        import metrics, svm\n",
    "from sklearn.linear_model           import LinearRegression\n",
    "from sklearn.linear_model           import LogisticRegression\n",
    "from sklearn.tree                   import DecisionTreeClassifier\n",
    "from sklearn.tree                   import DecisionTreeRegressor\n",
    "from sklearn.neighbors              import KNeighborsClassifier\n",
    "from sklearn.discriminant_analysis  import LinearDiscriminantAnalysis\n",
    "from sklearn.naive_bayes            import GaussianNB\n",
    "from sklearn.svm                    import SVC"
   ]
  },
  {
   "cell_type": "code",
   "execution_count": 26,
   "metadata": {},
   "outputs": [],
   "source": [
    "def choose_model():\n",
    "    #return svm.SVR()                                 #doesnt work\n",
    "    return LinearRegression()                        # 1342.07\n",
    "    #return LogisticRegression()                      #doesn't work\n",
    "    #return DecisionTreeClassifier()                  #1378.01\n",
    "    #return KNeighborsClassifier()                    #no go\n",
    "    #return LinearDiscriminantAnalysis()              #eh...\n",
    "    #return GaussianNB ()                             #noop\n",
    "    #return SVC()                                     #doesn't work\n",
    "    #return DecisionTreeRegressor(random_state = 0)   #1255.48"
   ]
  },
  {
   "cell_type": "code",
   "execution_count": null,
   "metadata": {},
   "outputs": [],
   "source": []
  }
 ],
 "metadata": {
  "kernelspec": {
   "display_name": "Python 3",
   "language": "python",
   "name": "python3"
  },
  "language_info": {
   "codemirror_mode": {
    "name": "ipython",
    "version": 3
   },
   "file_extension": ".py",
   "mimetype": "text/x-python",
   "name": "python",
   "nbconvert_exporter": "python",
   "pygments_lexer": "ipython3",
   "version": "3.8.2"
  }
 },
 "nbformat": 4,
 "nbformat_minor": 4
}
