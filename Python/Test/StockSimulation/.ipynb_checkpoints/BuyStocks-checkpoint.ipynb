{
 "cells": [
  {
   "cell_type": "code",
   "execution_count": 1,
   "metadata": {},
   "outputs": [
    {
     "name": "stdout",
     "output_type": "stream",
     "text": [
      "importing Jupyter notebook from Model.ipynb\n",
      "importing Jupyter notebook from Analytics.ipynb\n",
      "importing Jupyter notebook from Analytics.ipynb\n",
      "importing Jupyter notebook from RobinhoodAPI.ipynb\n"
     ]
    },
    {
     "name": "stderr",
     "output_type": "stream",
     "text": [
      "/Library/Frameworks/Python.framework/Versions/3.8/lib/python3.8/site-packages/pandas_datareader/compat/__init__.py:7: FutureWarning: pandas.util.testing is deprecated. Use the functions in the public API at pandas.testing instead.\n",
      "  from pandas.util.testing import assert_frame_equal\n"
     ]
    }
   ],
   "source": [
    "# Python Stuff\n",
    "import import_ipynb\n",
    "import importlib\n",
    "import datetime\n",
    "from sklearn.tree import DecisionTreeRegressor \n",
    "\n",
    "# My Stuff\n",
    "import Model\n",
    "from Model import train_model\n",
    "from Model import build_test_data\n",
    "\n",
    "import Analytics\n",
    "\n",
    "#import RobinhoodAPI\n",
    "#importlib.reload(RobinhoodAPI)\n",
    "#from RobinhoodAPI import login\n",
    "#from RobinhoodAPI import get_holdings\n",
    "#from RobinhoodAPI import get_funds\n",
    "#from RobinhoodAPI import build_profile\n",
    "#from RobinhoodAPI import purchase_stocks_maximum_amount\n",
    "#from RobinhoodAPI import get_current_ticker_price"
   ]
  },
  {
   "cell_type": "code",
   "execution_count": 2,
   "metadata": {},
   "outputs": [],
   "source": [
    "date = datetime.date.today()"
   ]
  },
  {
   "cell_type": "code",
   "execution_count": 3,
   "metadata": {},
   "outputs": [],
   "source": [
    "StockTickers = ['AAPL', 'CCL', 'EBAY', 'GLW', 'KO']"
   ]
  },
  {
   "cell_type": "code",
   "execution_count": 6,
   "metadata": {},
   "outputs": [
    {
     "name": "stdout",
     "output_type": "stream",
     "text": [
      "[*********************100%***********************]  1 of 1 completed\n",
      "[*********************100%***********************]  1 of 1 completed\n",
      "[*********************100%***********************]  1 of 1 completed\n",
      "[*********************100%***********************]  1 of 1 completed\n",
      "[*********************100%***********************]  1 of 1 completed\n"
     ]
    }
   ],
   "source": [
    "# create a regressor object \n",
    "model1 = DecisionTreeRegressor(random_state = 0) \n",
    "model2 = DecisionTreeRegressor(random_state = 0) \n",
    "model3 = DecisionTreeRegressor(random_state = 0) \n",
    "model4 = DecisionTreeRegressor(random_state = 0) \n",
    "model5 = DecisionTreeRegressor(random_state = 0) \n",
    "    \n",
    "# train our master model\n",
    "#for ticker in StockTickers:\n",
    "model1 = train_model (model1, StockTickers[0])\n",
    "model2 = train_model (model2, StockTickers[1])\n",
    "model3 = train_model (model3, StockTickers[2])\n",
    "model4 = train_model (model4, StockTickers[3])\n",
    "model5 = train_model (model5, StockTickers[4])"
   ]
  },
  {
   "cell_type": "code",
   "execution_count": 7,
   "metadata": {},
   "outputs": [
    {
     "name": "stdout",
     "output_type": "stream",
     "text": [
      "[*********************100%***********************]  1 of 1 completed\n",
      "(2615, 8)\n",
      "[*********************100%***********************]  1 of 1 completed\n",
      "(2615, 16)\n",
      "[*********************100%***********************]  1 of 1 completed\n",
      "(2615, 24)\n",
      "[*********************100%***********************]  1 of 1 completed\n",
      "(2615, 32)\n",
      "[*********************100%***********************]  1 of 1 completed\n",
      "(2615, 40)\n"
     ]
    }
   ],
   "source": [
    "stock_data = build_test_data(StockTickers)"
   ]
  },
  {
   "cell_type": "code",
   "execution_count": 8,
   "metadata": {},
   "outputs": [
    {
     "name": "stdout",
     "output_type": "stream",
     "text": [
      "Current Closing Price AAPL: ['365.110000']\n",
      "Current Closing Price CCL: ['17.630000']\n",
      "Current Closing Price EBAY: ['49.800000']\n",
      "Current Closing Price GLW: ['26.880000']\n",
      "Current Closing Price KO: ['45.570000']\n"
     ]
    }
   ],
   "source": [
    "#print ( \"Current Closing Price \" + StockTickers[0] + \": \" + str(get_current_ticker_price(StockTickers[0])))\n",
    "#print ( \"Current Closing Price \" + StockTickers[1] + \": \" + str(get_current_ticker_price(StockTickers[1])))\n",
    "#print ( \"Current Closing Price \" + StockTickers[2] + \": \" + str(get_current_ticker_price(StockTickers[2])))\n",
    "#print ( \"Current Closing Price \" + StockTickers[3] + \": \" + str(get_current_ticker_price(StockTickers[3])))\n",
    "#print ( \"Current Closing Price \" + StockTickers[4] + \": \" + str(get_current_ticker_price(StockTickers[4])))"
   ]
  },
  {
   "cell_type": "code",
   "execution_count": 9,
   "metadata": {},
   "outputs": [
    {
     "name": "stdout",
     "output_type": "stream",
     "text": [
      "AAPL is predicted to gain $-2.3599853515625\n",
      "CCL is predicted to gain $-1.6000003814697266\n",
      "EBAY is predicted to gain $-1.6699981689453125\n",
      "GLW is predicted to gain $1.1900005340576172\n",
      "KO is predicted to gain $-0.75\n"
     ]
    }
   ],
   "source": [
    "total_gains_1 = model1.predict(stock_data[0:len(stock_data), 0:8])[-1] - stock_data[len(stock_data) - 5, 7]\n",
    "total_gains_2 = model2.predict(stock_data[0:len(stock_data), 8:16])[-1] - stock_data[len(stock_data) - 5, 15]\n",
    "total_gains_3 = model3.predict(stock_data[0:len(stock_data), 16:24])[-1] - stock_data[len(stock_data) - 5, 23]\n",
    "total_gains_4 = model4.predict(stock_data[0:len(stock_data), 24:32])[-1] - stock_data[len(stock_data) - 5, 31]\n",
    "total_gains_5 = model5.predict(stock_data[0:len(stock_data), 32:40])[-1] - stock_data[len(stock_data) - 5, 39]\n",
    "    \n",
    "    \n",
    "maximum_gains = max(total_gains_1, total_gains_2, total_gains_3, total_gains_4, total_gains_5)\n",
    "    \n",
    "print (StockTickers[0] + \" is predicted to gain $\" + str(total_gains_1))\n",
    "print (StockTickers[1] + \" is predicted to gain $\" + str(total_gains_2))\n",
    "print (StockTickers[2] + \" is predicted to gain $\" + str(total_gains_3))\n",
    "print (StockTickers[3] + \" is predicted to gain $\" + str(total_gains_4))\n",
    "print (StockTickers[4] + \" is predicted to gain $\" + str(total_gains_5))"
   ]
  }
 ],
 "metadata": {
  "kernelspec": {
   "display_name": "Python 3",
   "language": "python",
   "name": "python3"
  },
  "language_info": {
   "codemirror_mode": {
    "name": "ipython",
    "version": 3
   },
   "file_extension": ".py",
   "mimetype": "text/x-python",
   "name": "python",
   "nbconvert_exporter": "python",
   "pygments_lexer": "ipython3",
   "version": "3.8.2"
  }
 },
 "nbformat": 4,
 "nbformat_minor": 4
}
