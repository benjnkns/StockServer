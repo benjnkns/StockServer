{
 "cells": [
  {
   "cell_type": "code",
   "execution_count": 1,
   "metadata": {},
   "outputs": [],
   "source": [
    "def Simple_Moving_Average (closing_prices):\n",
    "    SMA = []\n",
    "    for i in range (0,10):\n",
    "        SMA.append(0)\n",
    "    for i in range (10, len(closing_prices)):\n",
    "        SMA.append(sum(closing_prices[i-10:i])/10)\n",
    "    \n",
    "    return SMA"
   ]
  },
  {
   "cell_type": "code",
   "execution_count": 9,
   "metadata": {},
   "outputs": [],
   "source": [
    "def Simple_Moving_Average_20Day (closing_prices):\n",
    "    SMA20 = []\n",
    "    for i in range (0,20):\n",
    "        SMA20.append(0)\n",
    "    for i in range (20, len(closing_prices)):\n",
    "        SMA20.append(sum(closing_prices[i-20:i])/20)\n",
    "\n",
    "    return SMA20"
   ]
  },
  {
   "cell_type": "code",
   "execution_count": 3,
   "metadata": {},
   "outputs": [],
   "source": [
    "def Relative_Strength_Index (closing_prices):\n",
    "    RSI = []\n",
    "    avg_gain = []\n",
    "    avg_loss = []\n",
    "    gains = []\n",
    "    losses = []\n",
    "    \n",
    "    for i in range (14, len(closing_prices)):\n",
    "        for j in range(i-14, i):\n",
    "            if closing_prices[j+1]>closing_prices[j]:\n",
    "                gains.append(closing_prices[j+1] - closing_prices[j])\n",
    "            else:\n",
    "                losses.append(closing_prices[j] - closing_prices[j+1])\n",
    "        avg_gain.append(sum(gains)/len(gains))\n",
    "        avg_loss.append(sum(losses)/len(losses))\n",
    "        gains = []\n",
    "        losses = []\n",
    "\n",
    "    for i in range (0,14):\n",
    "        RSI.append(0)\n",
    "    for i in range (0, len(closing_prices)-14):\n",
    "        RSI.append (100 - (100 / (1 + avg_gain[i] / avg_loss[i])))\n",
    "\n",
    "        \n",
    "        \n",
    "    return RSI"
   ]
  },
  {
   "cell_type": "code",
   "execution_count": 4,
   "metadata": {},
   "outputs": [],
   "source": [
    "def Standard_Deviation (closing_prices):\n",
    "    STD = []\n",
    "    for i in range (0,10):\n",
    "        STD.append(0)\n",
    "    for i in range (10, len(closing_prices)):\n",
    "        STD.append(closing_prices[i-10:i].std() * 10)\n",
    "        \n",
    "    return STD"
   ]
  },
  {
   "cell_type": "code",
   "execution_count": 8,
   "metadata": {},
   "outputs": [],
   "source": [
    "def Bandwidth (closing_prices, STD):\n",
    "    BW = []\n",
    "    upper_band = []\n",
    "    lower_band = []\n",
    "\n",
    "    for i in range (0, len(closing_prices)):\n",
    "        upper_band.append(closing_prices[i]+.5*STD[i])\n",
    "        lower_band.append(closing_prices[i]-.5*STD[i])\n",
    "        BW.append(upper_band[i] - lower_band[i])\n",
    "\n",
    "        \n",
    "    return BW"
   ]
  },
  {
   "cell_type": "code",
   "execution_count": 6,
   "metadata": {},
   "outputs": [],
   "source": [
    "def Rate_Of_Change (closing_prices):\n",
    "    ROCP = []\n",
    "    for i in range (0, 10):\n",
    "        ROCP.append(0)\n",
    "    for i in range (10, len(closing_prices)):\n",
    "        ROCP.append(closing_prices[i] / closing_prices[i-10] - 1)\n",
    "        \n",
    "        \n",
    "    return ROCP"
   ]
  },
  {
   "cell_type": "code",
   "execution_count": 7,
   "metadata": {},
   "outputs": [],
   "source": [
    "def Rate_Of_Change_20Day (closing_prices):\n",
    "    ROCP100 = []\n",
    "    for i in range (0, 10):\n",
    "        ROCP100.append(0)\n",
    "    for i in range (10, len(closing_prices)):\n",
    "        ROCP100.append(closing_prices[i] / closing_prices[i-10] * 100)\n",
    "\n",
    "    \n",
    "    return ROCP100"
   ]
  },
  {
   "cell_type": "code",
   "execution_count": null,
   "metadata": {},
   "outputs": [],
   "source": []
  }
 ],
 "metadata": {
  "kernelspec": {
   "display_name": "Python 3",
   "language": "python",
   "name": "python3"
  },
  "language_info": {
   "codemirror_mode": {
    "name": "ipython",
    "version": 3
   },
   "file_extension": ".py",
   "mimetype": "text/x-python",
   "name": "python",
   "nbconvert_exporter": "python",
   "pygments_lexer": "ipython3",
   "version": "3.8.2"
  }
 },
 "nbformat": 4,
 "nbformat_minor": 4
}
