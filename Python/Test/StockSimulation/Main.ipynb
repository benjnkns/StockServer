{
 "cells": [
  {
   "cell_type": "code",
   "execution_count": 1,
   "metadata": {},
   "outputs": [
    {
     "name": "stdout",
     "output_type": "stream",
     "text": [
      "importing Jupyter notebook from Simulation.ipynb\n",
      "importing Jupyter notebook from Model.ipynb\n",
      "importing Jupyter notebook from Analytics.ipynb\n",
      "importing Jupyter notebook from Analytics.ipynb\n"
     ]
    },
    {
     "name": "stderr",
     "output_type": "stream",
     "text": [
      "/Library/Frameworks/Python.framework/Versions/3.8/lib/python3.8/site-packages/pandas_datareader/compat/__init__.py:7: FutureWarning: pandas.util.testing is deprecated. Use the functions in the public API at pandas.testing instead.\n",
      "  from pandas.util.testing import assert_frame_equal\n"
     ]
    },
    {
     "name": "stdout",
     "output_type": "stream",
     "text": [
      "importing Jupyter notebook from Model.ipynb\n",
      "importing Jupyter notebook from Analytics.ipynb\n",
      "importing Jupyter notebook from Simulation.ipynb\n",
      "importing Jupyter notebook from Model.ipynb\n",
      "importing Jupyter notebook from Analytics.ipynb\n"
     ]
    }
   ],
   "source": [
    "import import_ipynb\n",
    "import importlib\n",
    "import Simulation\n",
    "from Simulation import run_simulation\n",
    "importlib.reload(Simulation)\n",
    "from Simulation import run_simulation"
   ]
  },
  {
   "cell_type": "code",
   "execution_count": 2,
   "metadata": {},
   "outputs": [],
   "source": [
    "# Global variables\n",
    "#StockTickers = ['OMC', 'CCL', 'EBAY', 'GLW', 'KO']\n",
    "StockTickers = ['AAPL', 'CCL', 'EBAY', 'GLW', 'KO']\n",
    "SimulationYears = 7\n",
    "StartingFunds = 10000.00"
   ]
  },
  {
   "cell_type": "code",
   "execution_count": 3,
   "metadata": {},
   "outputs": [
    {
     "name": "stdout",
     "output_type": "stream",
     "text": [
      "Welcome to my stock simualation\n",
      "This simulation will be using the tickers:\n",
      "['AAPL', 'CCL', 'EBAY', 'GLW', 'KO']\n",
      "Over the duration of \n",
      "7\n",
      "years.... Ready?\n"
     ]
    }
   ],
   "source": [
    "print(\"Welcome to my stock simualation\")\n",
    "print(\"This simulation will be using the tickers:\")\n",
    "print(StockTickers)\n",
    "print(\"Over the duration of \" )\n",
    "print(SimulationYears)\n",
    "print(\"years.... Ready?\")"
   ]
  },
  {
   "cell_type": "code",
   "execution_count": 4,
   "metadata": {},
   "outputs": [
    {
     "name": "stdout",
     "output_type": "stream",
     "text": [
      "[*********************100%***********************]  1 of 1 completed\n",
      "[*********************100%***********************]  1 of 1 completed\n",
      "[*********************100%***********************]  1 of 1 completed\n",
      "[*********************100%***********************]  1 of 1 completed\n",
      "[*********************100%***********************]  1 of 1 completed\n",
      "[*********************100%***********************]  1 of 1 completed\n",
      "(2611, 8)\n",
      "[*********************100%***********************]  1 of 1 completed\n",
      "(2611, 16)\n",
      "[*********************100%***********************]  1 of 1 completed\n",
      "(2611, 24)\n",
      "[*********************100%***********************]  1 of 1 completed\n",
      "(2611, 32)\n",
      "[*********************100%***********************]  1 of 1 completed\n",
      "(2611, 40)\n",
      "[*********************100%***********************]  1 of 1 completed\n",
      "(2611, 8)\n",
      "[*********************100%***********************]  1 of 1 completed\n",
      "(2611, 16)\n",
      "[*********************100%***********************]  1 of 1 completed\n",
      "(2611, 24)\n",
      "[*********************100%***********************]  1 of 1 completed\n",
      "(2611, 32)\n",
      "[*********************100%***********************]  1 of 1 completed\n",
      "(2611, 40)\n",
      "31444.418884533363\n",
      "82664.42888709107\n",
      "224218.0910636001\n",
      "450069.1532514068\n",
      "1290407.3686868832\n",
      "4018256.5060281134\n"
     ]
    }
   ],
   "source": [
    "Earnings = run_simulation(StockTickers, SimulationYears, StartingFunds)"
   ]
  },
  {
   "cell_type": "code",
   "execution_count": 5,
   "metadata": {},
   "outputs": [
    {
     "name": "stdout",
     "output_type": "stream",
     "text": [
      "Over the course of 7 years, this algorithm would have earned you $12518405.540678797\n"
     ]
    }
   ],
   "source": [
    "print (\"Over the course of \" + str(SimulationYears) + \" years, this algorithm would have earned you $\" + str(Earnings - StartingFunds))"
   ]
  },
  {
   "cell_type": "code",
   "execution_count": 6,
   "metadata": {},
   "outputs": [
    {
     "name": "stdout",
     "output_type": "stream",
     "text": [
      "12528405.540678797\n"
     ]
    }
   ],
   "source": [
    "print(Earnings)"
   ]
  },
  {
   "cell_type": "code",
   "execution_count": 7,
   "metadata": {},
   "outputs": [
    {
     "name": "stdout",
     "output_type": "stream",
     "text": [
      "Happy?\n"
     ]
    }
   ],
   "source": [
    "print(\"Happy?\")"
   ]
  },
  {
   "cell_type": "code",
   "execution_count": null,
   "metadata": {},
   "outputs": [],
   "source": []
  }
 ],
 "metadata": {
  "kernelspec": {
   "display_name": "Python 3",
   "language": "python",
   "name": "python3"
  },
  "language_info": {
   "codemirror_mode": {
    "name": "ipython",
    "version": 3
   },
   "file_extension": ".py",
   "mimetype": "text/x-python",
   "name": "python",
   "nbconvert_exporter": "python",
   "pygments_lexer": "ipython3",
   "version": "3.8.2"
  }
 },
 "nbformat": 4,
 "nbformat_minor": 4
}
