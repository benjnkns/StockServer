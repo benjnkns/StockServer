{
 "cells": [
  {
   "cell_type": "code",
   "execution_count": 1,
   "metadata": {},
   "outputs": [
    {
     "name": "stdout",
     "output_type": "stream",
     "text": [
      "importing Jupyter notebook from Analytics.ipynb\n",
      "importing Jupyter notebook from Analytics.ipynb\n"
     ]
    },
    {
     "name": "stderr",
     "output_type": "stream",
     "text": [
      "/Library/Frameworks/Python.framework/Versions/3.8/lib/python3.8/site-packages/pandas_datareader/compat/__init__.py:7: FutureWarning: pandas.util.testing is deprecated. Use the functions in the public API at pandas.testing instead.\n",
      "  from pandas.util.testing import assert_frame_equal\n"
     ]
    }
   ],
   "source": [
    "import datetime\n",
    "import import_ipynb\n",
    "import importlib\n",
    "import matplotlib\n",
    "import numpy\n",
    "import pandas\n",
    "import yfinance as yf\n",
    "\n",
    "import Analytics\n",
    "importlib.reload(Analytics)\n",
    "from Analytics import Simple_Moving_Average \n",
    "from Analytics import Simple_Moving_Average_20Day\n",
    "from Analytics import Relative_Strength_Index\n",
    "from Analytics import Standard_Deviation\n",
    "from Analytics import Bandwidth\n",
    "from Analytics import Rate_Of_Change\n",
    "from Analytics import Rate_Of_Change_20Day\n",
    "from matplotlib import pyplot\n",
    "from pandas_datareader import data as pdr\n",
    "from sklearn.model_selection import train_test_split\n",
    "from sklearn.preprocessing import scale\n",
    "\n",
    "\n",
    "# Override yFinance with Pandas\n",
    "yf.pdr_override() # <-- Here is the fix"
   ]
  },
  {
   "cell_type": "code",
   "execution_count": 2,
   "metadata": {},
   "outputs": [],
   "source": [
    "def train_model(model, ticker):\n",
    "\n",
    "    # Set start and end dates\n",
    "    start_date = datetime.datetime(2010, 1, 1)\n",
    "    end_date   = datetime.date.today()\n",
    "\n",
    "    # Grab data\n",
    "    data = pdr.get_data_yahoo(str(ticker), start = start_date, end = end_date)\n",
    "    \n",
    "    # Run Analytics\n",
    "    X, Y = build_training_set(data)\n",
    "    \n",
    "    model.fit(X, Y)\n",
    "    \n",
    "    return model"
   ]
  },
  {
   "cell_type": "code",
   "execution_count": 37,
   "metadata": {},
   "outputs": [],
   "source": [
    "def build_training_set(data):\n",
    "#    print (data.head())\n",
    "    data = data.values\n",
    "    closing_prices = scale_data(data[:, 3])\n",
    "    closing_prices_5_day = closing_prices[5:]\n",
    "#    print (closing_prices[0:10])\n",
    "    \n",
    "    # Calculate Analytics\n",
    "    SMA = Simple_Moving_Average(closing_prices)\n",
    "    SMA20 = Simple_Moving_Average_20Day(closing_prices)\n",
    "    RSI = Relative_Strength_Index(closing_prices)\n",
    "    STD = Standard_Deviation(closing_prices)\n",
    "    BW = Bandwidth(closing_prices, STD)\n",
    "    ROC = Rate_Of_Change(closing_prices)\n",
    "    ROC100 = Rate_Of_Change_20Day(closing_prices)\n",
    "    \n",
    "    # Trim Data\n",
    "    # Trim the first 20 entries because ROC20 is all zeros\n",
    "    # Trim the last 5 entries from everything except closing_prices_5_day\n",
    "    SMA = SMA[20:-5]\n",
    "    SMA20 = SMA20[20:-5]\n",
    "    RSI = RSI[20:-5]\n",
    "    STD = STD[20:-5]\n",
    "    BW = BW[20:-5]\n",
    "    ROC = ROC[20:-5]\n",
    "    ROC100 = ROC100[20:-5]\n",
    "    closing_prices = closing_prices[20:-5]\n",
    "    closing_prices_5_day = closing_prices_5_day[20:]\n",
    "    \n",
    "    \n",
    "    # Reshape Data\n",
    "    SMA = numpy.reshape(SMA, (len(SMA), 1))\n",
    "    SMA20 = numpy.reshape(SMA20, (len(SMA20), 1))\n",
    "    RSI = numpy.reshape(RSI, (len(RSI), 1))\n",
    "    STD = numpy.reshape(STD, (len(STD), 1))\n",
    "    BW = numpy.reshape(BW, (len(BW), 1))\n",
    "    ROC = numpy.reshape(ROC, (len(ROC), 1))\n",
    "    ROC100 = numpy.reshape(ROC100, (len(ROC100), 1))\n",
    "    closing_prices = numpy.reshape(closing_prices, (len(closing_prices), 1))\n",
    "    closing_prices_5_day = numpy.reshape(closing_prices_5_day, (len(closing_prices_5_day), 1))\n",
    "    \n",
    "\n",
    "#    print(SMA.shape)\n",
    "#    print(SMA20.shape)\n",
    "#    print(RSI.shape)\n",
    "#    print(STD.shape)    \n",
    "#    print(BW.shape)\n",
    "#    print(ROC.shape)    \n",
    "#    print(ROC100.shape)    \n",
    "#    print(closing_prices.shape)    \n",
    "#    print(closing_prices_5_day.shape)    \n",
    "    \n",
    "    \n",
    "    \n",
    "    X = numpy.concatenate((SMA, SMA20, RSI, STD, BW, ROC, ROC100, closing_prices), axis = 1)\n",
    "    Y = closing_prices_5_day\n",
    "    \n",
    "    X, x_dont_use, Y, y_dont_use = train_test_split(X, Y, test_size=.001, random_state=12)\n",
    "\n",
    "#    print(X.shape)\n",
    "#    print(Y.shape)\n",
    "    \n",
    "    return X, Y"
   ]
  },
  {
   "cell_type": "code",
   "execution_count": 38,
   "metadata": {},
   "outputs": [],
   "source": [
    "def build_test_data(StockTickers):\n",
    "    # Main Data table with all tickers in it\n",
    "    test_data = []\n",
    "    \n",
    "    # Always start from Jan 1, 2010 so we have at least 10 years of data.\n",
    "    start_date = datetime.datetime(2010, 1, 1)\n",
    "    end_date   = datetime.date.today()\n",
    "    \n",
    "    for ticker in StockTickers:\n",
    "        StockData = pdr.get_data_yahoo(str(ticker), start = start_date, end = end_date)\n",
    "\n",
    "        data = StockData.values\n",
    "        closing_prices = scale_data(data[:, 3])\n",
    "        closing_prices_5_day = closing_prices[5:]\n",
    "        \n",
    "    \n",
    "        # Calculate Analytics\n",
    "        SMA = Simple_Moving_Average(closing_prices)\n",
    "        SMA20 = Simple_Moving_Average_20Day(closing_prices)\n",
    "        RSI = Relative_Strength_Index(closing_prices)\n",
    "        STD = Standard_Deviation(closing_prices)\n",
    "        BW = Bandwidth(closing_prices, STD)\n",
    "        ROC = Rate_Of_Change(closing_prices)\n",
    "        ROC100 = Rate_Of_Change_20Day(closing_prices)\n",
    "    \n",
    "        # Trim Data\n",
    "        # Trim the first 20 entries because ROC20 is all zeros\n",
    "        # Trim the last 5 entries from everything except closing_prices_5_day\n",
    "        SMA = SMA[20:-5]\n",
    "        SMA20 = SMA20[20:-5]\n",
    "        RSI = RSI[20:-5]\n",
    "        STD = STD[20:-5]\n",
    "        BW = BW[20:-5]\n",
    "        ROC = ROC[20:-5]\n",
    "        ROC100 = ROC100[20:-5]\n",
    "        closing_prices = closing_prices[20:-5]\n",
    "\n",
    "\n",
    "        # Reshape Data\n",
    "        SMA = numpy.reshape(SMA, (len(SMA), 1))\n",
    "        SMA20 = numpy.reshape(SMA20, (len(SMA20), 1))\n",
    "        RSI = numpy.reshape(RSI, (len(RSI), 1))\n",
    "        STD = numpy.reshape(STD, (len(STD), 1))\n",
    "        BW = numpy.reshape(BW, (len(BW), 1))\n",
    "        ROC = numpy.reshape(ROC, (len(ROC), 1))\n",
    "        ROC100 = numpy.reshape(ROC100, (len(ROC100), 1))\n",
    "        closing_prices = numpy.reshape(closing_prices, (len(closing_prices), 1))\n",
    "        closing_prices_5_day = numpy.reshape(closing_prices_5_day, (len(closing_prices_5_day), 1))\n",
    "    \n",
    "    \n",
    "    \n",
    "        X = numpy.concatenate((SMA, SMA20, RSI, STD, BW, ROC, ROC100, closing_prices), axis = 1)\n",
    "        \n",
    "        if (len(test_data) == 0):\n",
    "            test_data = X\n",
    "            \n",
    "        else:\n",
    "            test_data = numpy.concatenate((test_data, X), axis = 1)\n",
    "        \n",
    "        print(test_data.shape)\n",
    "        \n",
    "    return test_data\n",
    "    "
   ]
  },
  {
   "cell_type": "code",
   "execution_count": 39,
   "metadata": {},
   "outputs": [],
   "source": [
    "def build_test_data_unscaled (StockTickers):\n",
    "    # Main Data table with all tickers in it\n",
    "    test_data = []\n",
    "    \n",
    "    # Always start from Jan 1, 2010 so we have at least 10 years of data.\n",
    "    start_date = datetime.datetime(2010, 1, 1)\n",
    "    end_date   = datetime.date.today()\n",
    "    \n",
    "    for ticker in StockTickers:\n",
    "        StockData = pdr.get_data_yahoo(str(ticker), start = start_date, end = end_date)\n",
    "\n",
    "        data = StockData.values\n",
    "        closing_prices = data[:, 3]\n",
    "        closing_prices_5_day = closing_prices[5:]\n",
    "        \n",
    "    \n",
    "        # Calculate Analytics\n",
    "        SMA = Simple_Moving_Average(closing_prices)\n",
    "        SMA20 = Simple_Moving_Average_20Day(closing_prices)\n",
    "        RSI = Relative_Strength_Index(closing_prices)\n",
    "        STD = Standard_Deviation(closing_prices)\n",
    "        BW = Bandwidth(closing_prices, STD)\n",
    "        ROC = Rate_Of_Change(closing_prices)\n",
    "        ROC100 = Rate_Of_Change_20Day(closing_prices)\n",
    "    \n",
    "        # Trim Data\n",
    "        # Trim the first 20 entries because ROC20 is all zeros\n",
    "        # Trim the last 5 entries from everything except closing_prices_5_day\n",
    "        SMA = SMA[20:-5]\n",
    "        SMA20 = SMA20[20:-5]\n",
    "        RSI = RSI[20:-5]\n",
    "        STD = STD[20:-5]\n",
    "        BW = BW[20:-5]\n",
    "        ROC = ROC[20:-5]\n",
    "        ROC100 = ROC100[20:-5]\n",
    "        closing_prices = closing_prices[20:-5]\n",
    "\n",
    "\n",
    "        # Reshape Data\n",
    "        SMA = numpy.reshape(SMA, (len(SMA), 1))\n",
    "        SMA20 = numpy.reshape(SMA20, (len(SMA20), 1))\n",
    "        RSI = numpy.reshape(RSI, (len(RSI), 1))\n",
    "        STD = numpy.reshape(STD, (len(STD), 1))\n",
    "        BW = numpy.reshape(BW, (len(BW), 1))\n",
    "        ROC = numpy.reshape(ROC, (len(ROC), 1))\n",
    "        ROC100 = numpy.reshape(ROC100, (len(ROC100), 1))\n",
    "        closing_prices = numpy.reshape(closing_prices, (len(closing_prices), 1))\n",
    "        closing_prices_5_day = numpy.reshape(closing_prices_5_day, (len(closing_prices_5_day), 1))\n",
    "    \n",
    "    \n",
    "    \n",
    "        X = numpy.concatenate((SMA, SMA20, RSI, STD, BW, ROC, ROC100, closing_prices), axis = 1)\n",
    "        \n",
    "        if (len(test_data) == 0):\n",
    "            test_data = X\n",
    "            \n",
    "        else:\n",
    "            test_data = numpy.concatenate((test_data, X), axis = 1)\n",
    "        \n",
    "        print(test_data.shape)\n",
    "        \n",
    "    return test_data"
   ]
  },
  {
   "cell_type": "code",
   "execution_count": 36,
   "metadata": {},
   "outputs": [],
   "source": [
    "def scale_data(data):\n",
    "    return scale(data)\n",
    "    #return data"
   ]
  },
  {
   "cell_type": "code",
   "execution_count": 6,
   "metadata": {},
   "outputs": [],
   "source": [
    "#StockTickers = ['AAPL', 'MSFT', 'VZ', 'GOOG', 'UPS']\n",
    "#test_data = build_test_data (StockTickers)\n",
    "#len(test_data)"
   ]
  },
  {
   "cell_type": "code",
   "execution_count": 25,
   "metadata": {},
   "outputs": [],
   "source": [
    "# # Test Code\n",
    "\n",
    "# start_date = datetime.datetime(2010, 1, 1)\n",
    "# end_date   = datetime.date.today()\n",
    "\n",
    "# data = pdr.get_data_yahoo(str('AAPL'), start = start_date, end = end_date)\n",
    "    \n",
    "# data = scale_data(data)\n",
    "    \n",
    "# # Run Analytics\n",
    "# X, Y = build_training_set(data)"
   ]
  },
  {
   "cell_type": "code",
   "execution_count": 10,
   "metadata": {},
   "outputs": [
    {
     "data": {
      "text/plain": [
       "(2636, 6)"
      ]
     },
     "execution_count": 10,
     "metadata": {},
     "output_type": "execute_result"
    }
   ],
   "source": [
    "#data.shape"
   ]
  },
  {
   "cell_type": "code",
   "execution_count": 20,
   "metadata": {},
   "outputs": [
    {
     "data": {
      "text/plain": [
       "[<matplotlib.lines.Line2D at 0x7fd4990a8ac0>]"
      ]
     },
     "execution_count": 20,
     "metadata": {},
     "output_type": "execute_result"
    },
    {
     "data": {
      "image/png": "[encoded data removed]",
      "text/plain": [
       "<Figure size 432x288 with 1 Axes>"
      ]
     },
     "metadata": {
      "needs_background": "light"
     },
     "output_type": "display_data"
    }
   ],
   "source": [
    "#pyplot.plot(data[:, 5])"
   ]
  },
  {
   "cell_type": "code",
   "execution_count": null,
   "metadata": {},
   "outputs": [],
   "source": []
  }
 ],
 "metadata": {
  "kernelspec": {
   "display_name": "Python 3",
   "language": "python",
   "name": "python3"
  },
  "language_info": {
   "codemirror_mode": {
    "name": "ipython",
    "version": 3
   },
   "file_extension": ".py",
   "mimetype": "text/x-python",
   "name": "python",
   "nbconvert_exporter": "python",
   "pygments_lexer": "ipython3",
   "version": "3.8.2"
  }
 },
 "nbformat": 4,
 "nbformat_minor": 4
}
