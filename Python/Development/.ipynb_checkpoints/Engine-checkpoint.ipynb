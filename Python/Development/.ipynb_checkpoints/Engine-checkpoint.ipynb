{
 "cells": [
  {
   "cell_type": "markdown",
   "metadata": {},
   "source": [
    "### Engine is the file which chooses the model, compiles the data, makes predictions."
   ]
  },
  {
   "cell_type": "code",
   "execution_count": 123,
   "metadata": {},
   "outputs": [
    {
     "name": "stdout",
     "output_type": "stream",
     "text": [
      "importing Jupyter notebook from Data.ipynb\n",
      "importing Jupyter notebook from Analytics.ipynb\n",
      "importing Jupyter notebook from Models.ipynb\n"
     ]
    }
   ],
   "source": [
    "import importlib\n",
    "import import_ipynb\n",
    "import datetime\n",
    "import numpy\n",
    "import pandas\n",
    "import yfinance as yf\n",
    "import matplotlib.pyplot as plt\n",
    "\n",
    "#MY STUFF\n",
    "import Data\n",
    "importlib.reload(Data)\n",
    "from Data import build_training_set\n",
    "from Data import build_prediction_set\n",
    "\n",
    "import Models\n",
    "importlib.reload(Models)\n",
    "from Models import choose_model"
   ]
  },
  {
   "cell_type": "code",
   "execution_count": 1,
   "metadata": {},
   "outputs": [],
   "source": [
    "def make_predictions(tickers, date, days_out = 4):\n",
    "    #This function will return a 1 x len(tickers) array with the predicted closing prices of each ticker on the date given.\n",
    "    \n",
    "    predictions = []\n",
    "    \n",
    "    for ticker in tickers:\n",
    "        #Choose the model to use. Currently, decision tree is the only available model.\n",
    "        model = choose_model()\n",
    "        \n",
    "        #Compile training data\n",
    "        #This data includes everything from 2010 - 40 days ago.\n",
    "        #The Y colum will be the closing prices x days from now, where x = date - today.\n",
    "        X_train, Y_train = build_training_set(ticker, date, days_out)\n",
    "        \n",
    "        #Train the model on the ticker data\n",
    "        model.fit(X_train, Y_train)\n",
    "        \n",
    "        # Compile prediction data.\n",
    "        # This will include 30 days of closing prices + analytics leading up to today.\n",
    "        X_predict , Today_Scaled = build_prediction_set(ticker, date, days_out)\n",
    "        \n",
    "        #Use the model to predict the price on date\n",
    "        predict = model.predict(X_predict)\n",
    "        \n",
    "        #Add prediction to list along with today's scaled closing price.\n",
    "        predictions.append([ticker, Today_Scaled, predict[-1]])\n",
    "        \n",
    "        \n",
    "    return predictions\n",
    "    "
   ]
  },
  {
   "cell_type": "code",
   "execution_count": null,
   "metadata": {},
   "outputs": [],
   "source": []
  }
 ],
 "metadata": {
  "kernelspec": {
   "display_name": "Python 3",
   "language": "python",
   "name": "python3"
  },
  "language_info": {
   "codemirror_mode": {
    "name": "ipython",
    "version": 3
   },
   "file_extension": ".py",
   "mimetype": "text/x-python",
   "name": "python",
   "nbconvert_exporter": "python",
   "pygments_lexer": "ipython3",
   "version": "3.8.2"
  }
 },
 "nbformat": 4,
 "nbformat_minor": 4
}
