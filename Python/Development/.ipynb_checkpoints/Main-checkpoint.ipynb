{
 "cells": [
  {
   "cell_type": "code",
   "execution_count": 9,
   "metadata": {},
   "outputs": [
    {
     "name": "stdout",
     "output_type": "stream",
     "text": [
      "importing Jupyter notebook from Engine.ipynb\n",
      "importing Jupyter notebook from Data.ipynb\n",
      "importing Jupyter notebook from Analytics.ipynb\n",
      "importing Jupyter notebook from Models.ipynb\n"
     ]
    }
   ],
   "source": [
    "import importlib\n",
    "import import_ipynb\n",
    "import datetime\n",
    "from datetime import timedelta\n",
    "\n",
    "# MY STUFF\n",
    "import RobinhoodAPI\n",
    "from RobinhoodAPI import login\n",
    "from RobinhoodAPI import get_holdings\n",
    "from RobinhoodAPI import get_funds\n",
    "from RobinhoodAPI import build_profile\n",
    "from RobinhoodAPI import purchase_stocks_maximum_amount\n",
    "from RobinhoodAPI import get_current_ticker_price\n",
    "\n",
    "import Engine\n",
    "importlib.reload(Engine)\n",
    "from Engine import make_predictions"
   ]
  },
  {
   "cell_type": "code",
   "execution_count": 26,
   "metadata": {},
   "outputs": [],
   "source": [
    "def buy():\n",
    "    \n",
    "    #Tickers to evaluate\n",
    "    tickers = ['AAPL', 'CCL', 'EBAY', 'GLW', 'KO']\n",
    "    \n",
    "    #log into robinhood\n",
    "    print (datetime.date.today())\n",
    "    print (\"Loggin into Robinhood...\")\n",
    "    login(\"benjnkns@gmail.com\", \"Guitarist474747123\")\n",
    "    \n",
    "    #analyze the market\n",
    "    print (\"Analyzing the Market...\")\n",
    "    print (\"Making predictions...\")\n",
    "    predictions = make_predictions(tickers, datetime.date.today(), 4)\n",
    "    \n",
    "    #decide which stock to buy\n",
    "    total_gains = []\n",
    "    for i in range(0, len(tickers)):\n",
    "        total_gains.append(predictions[i][2] - predictions[i][1])\n",
    "        print (tickers[i] + \"is expected to gain \" + str(total_gains[i]))\n",
    "    max_gain = max(total_gains)\n",
    "    stock_to_purchase = tickers[total_gains.index(max_gain)]\n",
    "    \n",
    "    #purchase the stock\n",
    "    if (max_gain > 0):\n",
    "        stocks_purchased = purchase_stocks_maximum_amount(stock_to_purchase)\n",
    "    else:\n",
    "        stocks_purchased = 0\n",
    "        \n",
    "    #print summary\n",
    "    print (\"Purchased \" + str(stocks_purchased) + \" stocks of \" + stock_to_purchase)"
   ]
  },
  {
   "cell_type": "code",
   "execution_count": 30,
   "metadata": {},
   "outputs": [],
   "source": [
    "def sell () :\n",
    "    \n",
    "    #Tickers to evaluate\n",
    "    tickers = ['AAPL', 'CCL', 'EBAY', 'GLW', 'KO']\n",
    "    \n",
    "    #log into robinhood\n",
    "    print (datetime.date.today())\n",
    "    print (\"Loggin into Robinhood...\")\n",
    "    login(\"benjnkns@gmail.com\", \"Guitarist474747123\")\n",
    "    \n",
    "    #Display Profile Status\n",
    "    RobinhoodProfile = build_profile()\n",
    "    print (\"\\nRobinhood Profile: \")\n",
    "    print (RobinhoodProfile)\n",
    "    \n",
    "    #Get stocks\n",
    "    holdings = get_holdings()\n",
    "    print (\"\\nHoldings: \")\n",
    "    for holding in holdings:\n",
    "        print (holding + \" \" + str(holdings[holding]) + '\\n')\n",
    "    \n",
    "    \n",
    "    #sell all positions \n",
    "    #NOTE: If you want to, you could exclude certain positions in this statement to avoid selling them.\n",
    "    #OR just like, sell all AAPL, MCK, ETC, ... you know, like the 5 stocks I'm analyzing.\n",
    "    \n",
    "    for ticker in holdings:\n",
    "        if (ticker in tickers): \n",
    "            #Calculate how many shares to sell and at what price.\n",
    "            current_market_price = float(get_current_ticker_price(ticker)[0])\n",
    "            limit_order_price = current_market_price - 1.00\n",
    "            number_stocks_held = holdings.get(ticker).get('quantity')\n",
    "            \n",
    "            #sell stocks\n",
    "            #sell_stocks_limit_order(ticker, number_stocks_held, limit_order_price)\n",
    "            print (\"Selling \" + str(number_stocks_held) + \" stocks of \" + ticker + \" at a limit price of \" + str(limit_order_price))\n",
    "            \n",
    "    #Print Confirmation\n",
    "    print (\"\\nConfirmation\")"
   ]
  },
  {
   "cell_type": "code",
   "execution_count": null,
   "metadata": {},
   "outputs": [],
   "source": []
  }
 ],
 "metadata": {
  "kernelspec": {
   "display_name": "Python 3",
   "language": "python",
   "name": "python3"
  },
  "language_info": {
   "codemirror_mode": {
    "name": "ipython",
    "version": 3
   },
   "file_extension": ".py",
   "mimetype": "text/x-python",
   "name": "python",
   "nbconvert_exporter": "python",
   "pygments_lexer": "ipython3",
   "version": "3.8.2"
  }
 },
 "nbformat": 4,
 "nbformat_minor": 4
}
