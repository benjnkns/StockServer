{
 "cells": [
  {
   "cell_type": "code",
   "execution_count": 1,
   "metadata": {},
   "outputs": [],
   "source": [
    "import robin_stocks\n",
    "from robin_stocks import *"
   ]
  },
  {
   "cell_type": "code",
   "execution_count": 2,
   "metadata": {},
   "outputs": [],
   "source": [
    "def login(username, password):\n",
    "    return robin_stocks.login(username, password)\n"
   ]
  },
  {
   "cell_type": "code",
   "execution_count": 3,
   "metadata": {},
   "outputs": [],
   "source": [
    "def get_holdings():\n",
    "    my_stocks = robin_stocks.build_holdings()\n",
    "    return my_stocks"
   ]
  },
  {
   "cell_type": "code",
   "execution_count": 4,
   "metadata": {},
   "outputs": [],
   "source": [
    "def get_funds():\n",
    "    funds = build_profile()\n",
    "    return funds['cash']"
   ]
  },
  {
   "cell_type": "code",
   "execution_count": 5,
   "metadata": {},
   "outputs": [],
   "source": [
    "def get_current_ticker_price(Ticker):\n",
    "    return robin_stocks.get_latest_price(Ticker)"
   ]
  },
  {
   "cell_type": "code",
   "execution_count": 6,
   "metadata": {},
   "outputs": [],
   "source": [
    "def build_profile():\n",
    "    return robin_stocks.build_user_profile()"
   ]
  },
  {
   "cell_type": "code",
   "execution_count": 7,
   "metadata": {},
   "outputs": [],
   "source": [
    "def purchase_stocks_market_order (Ticker, quantity):\n",
    "    robin_stocks.order_buy_market(Ticker, quantity)"
   ]
  },
  {
   "cell_type": "code",
   "execution_count": 8,
   "metadata": {},
   "outputs": [],
   "source": [
    "def sell_stocks_market_order (Ticker, quantity):\n",
    "    robin_stocks.order_sell_market(Ticker, quantity)"
   ]
  },
  {
   "cell_type": "code",
   "execution_count": 9,
   "metadata": {},
   "outputs": [],
   "source": [
    "def sell_stocks_limit_order (Ticker, quantity, limit_price):\n",
    "    robin_stocks.order_sell_limit(Ticker,quantity,limit_price)\n"
   ]
  },
  {
   "cell_type": "code",
   "execution_count": 10,
   "metadata": {},
   "outputs": [],
   "source": [
    "def purchase_stocks_maximum_amount(Ticker):\n",
    "    current_stock_price = robin_stocks.get_latest_price(Ticker)\n",
    "    current_funds = get_funds()\n",
    "    stock_purchase_quantity = int(float(current_funds) / float(current_stock_price[0]))\n",
    "    \n",
    "    purchase_stocks_market_order (Ticker, stock_purchase_quantity)\n",
    "    \n",
    "    return stock_purchase_quantity"
   ]
  },
  {
   "cell_type": "code",
   "execution_count": 11,
   "metadata": {},
   "outputs": [],
   "source": [
    "#http://www.robin-stocks.com/en/latest/quickstart.html"
   ]
  }
 ],
 "metadata": {
  "kernelspec": {
   "display_name": "Python 3",
   "language": "python",
   "name": "python3"
  },
  "language_info": {
   "codemirror_mode": {
    "name": "ipython",
    "version": 3
   },
   "file_extension": ".py",
   "mimetype": "text/x-python",
   "name": "python",
   "nbconvert_exporter": "python",
   "pygments_lexer": "ipython3",
   "version": "3.8.2"
  }
 },
 "nbformat": 4,
 "nbformat_minor": 4
}
