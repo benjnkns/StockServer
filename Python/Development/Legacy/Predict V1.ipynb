{
 "cells": [
  {
   "cell_type": "code",
   "execution_count": 2,
   "metadata": {},
   "outputs": [
    {
     "name": "stdout",
     "output_type": "stream",
     "text": [
      "Python: 3.7.7 (default, Mar 10 2020, 15:43:33) \n",
      "[Clang 11.0.0 (clang-1100.0.33.17)]:\n",
      "Scipy: 1.4.1\n",
      "numpy: 1.18.2\n",
      "matplotlib: 3.2.1\n",
      "sklearn: 0.22.2.post1\n",
      "pandas: 1.0.3\n",
      "yfinance: 0.1.54\n",
      "lxml: 4.5.0\n"
     ]
    }
   ],
   "source": [
    "import sys\n",
    "import scipy\n",
    "import numpy\n",
    "import matplotlib\n",
    "import sklearn\n",
    "import pandas\n",
    "import yfinance as yf\n",
    "import lxml\n",
    "\n",
    "print ('Python: {}:'.format(sys.version))\n",
    "print( 'Scipy: {}'.format(scipy.__version__))\n",
    "print( 'numpy: {}'.format(numpy.__version__))\n",
    "print( 'matplotlib: {}'.format(matplotlib.__version__))\n",
    "print( 'sklearn: {}'.format(sklearn.__version__))\n",
    "print( 'pandas: {}'.format(pandas.__version__))\n",
    "print ('yfinance: {}'.format(yf.__version__))\n",
    "print ('lxml: {}'.format(lxml.__version__))"
   ]
  },
  {
   "cell_type": "code",
   "execution_count": 4,
   "metadata": {},
   "outputs": [],
   "source": [
    "# Load libraries\n",
    "from pandas import read_csv\n",
    "from pandas.plotting import scatter_matrix\n",
    "from matplotlib import pyplot\n",
    "from sklearn.model_selection import train_test_split\n",
    "from sklearn.model_selection import cross_val_score\n",
    "from sklearn.model_selection import StratifiedKFold\n",
    "from sklearn.metrics import classification_report\n",
    "from sklearn.metrics import confusion_matrix\n",
    "from sklearn.metrics import accuracy_score\n",
    "from sklearn.linear_model import LogisticRegression\n",
    "from sklearn.tree import DecisionTreeClassifier\n",
    "from sklearn.neighbors import KNeighborsClassifier\n",
    "from sklearn.discriminant_analysis import LinearDiscriminantAnalysis\n",
    "from sklearn.naive_bayes import GaussianNB\n",
    "from sklearn.svm import SVC"
   ]
  },
  {
   "cell_type": "code",
   "execution_count": 122,
   "metadata": {},
   "outputs": [],
   "source": [
    "data = pandas.read_csv('AAPL.csv')"
   ]
  },
  {
   "cell_type": "code",
   "execution_count": 123,
   "metadata": {},
   "outputs": [
    {
     "data": {
      "text/plain": [
       "(21, 6)"
      ]
     },
     "execution_count": 123,
     "metadata": {},
     "output_type": "execute_result"
    }
   ],
   "source": [
    "data.shape"
   ]
  },
  {
   "cell_type": "code",
   "execution_count": 124,
   "metadata": {},
   "outputs": [
    {
     "data": {
      "text/html": [
       "<div>\n",
       "<style scoped>\n",
       "    .dataframe tbody tr th:only-of-type {\n",
       "        vertical-align: middle;\n",
       "    }\n",
       "\n",
       "    .dataframe tbody tr th {\n",
       "        vertical-align: top;\n",
       "    }\n",
       "\n",
       "    .dataframe thead th {\n",
       "        text-align: right;\n",
       "    }\n",
       "</style>\n",
       "<table border=\"1\" class=\"dataframe\">\n",
       "  <thead>\n",
       "    <tr style=\"text-align: right;\">\n",
       "      <th></th>\n",
       "      <th>Date</th>\n",
       "      <th>Close/Last</th>\n",
       "      <th>Volume</th>\n",
       "      <th>Open</th>\n",
       "      <th>High</th>\n",
       "      <th>Low</th>\n",
       "    </tr>\n",
       "  </thead>\n",
       "  <tbody>\n",
       "    <tr>\n",
       "      <th>0</th>\n",
       "      <td>03/25/2020</td>\n",
       "      <td>$245.52</td>\n",
       "      <td>75900510</td>\n",
       "      <td>$250.75</td>\n",
       "      <td>$258.25</td>\n",
       "      <td>$244.3</td>\n",
       "    </tr>\n",
       "    <tr>\n",
       "      <th>1</th>\n",
       "      <td>03/24/2020</td>\n",
       "      <td>$246.88</td>\n",
       "      <td>71882770</td>\n",
       "      <td>$236.36</td>\n",
       "      <td>$247.69</td>\n",
       "      <td>$234.3</td>\n",
       "    </tr>\n",
       "    <tr>\n",
       "      <th>2</th>\n",
       "      <td>03/23/2020</td>\n",
       "      <td>$224.37</td>\n",
       "      <td>84188210</td>\n",
       "      <td>$228.08</td>\n",
       "      <td>$228.4997</td>\n",
       "      <td>$212.61</td>\n",
       "    </tr>\n",
       "    <tr>\n",
       "      <th>3</th>\n",
       "      <td>03/20/2020</td>\n",
       "      <td>$229.24</td>\n",
       "      <td>100423300</td>\n",
       "      <td>$247.18</td>\n",
       "      <td>$251.83</td>\n",
       "      <td>$228</td>\n",
       "    </tr>\n",
       "    <tr>\n",
       "      <th>4</th>\n",
       "      <td>03/19/2020</td>\n",
       "      <td>$244.78</td>\n",
       "      <td>67964260</td>\n",
       "      <td>$247.385</td>\n",
       "      <td>$252.84</td>\n",
       "      <td>$242.61</td>\n",
       "    </tr>\n",
       "    <tr>\n",
       "      <th>5</th>\n",
       "      <td>03/18/2020</td>\n",
       "      <td>$246.67</td>\n",
       "      <td>75058410</td>\n",
       "      <td>$239.77</td>\n",
       "      <td>$250</td>\n",
       "      <td>$237.12</td>\n",
       "    </tr>\n",
       "    <tr>\n",
       "      <th>6</th>\n",
       "      <td>03/17/2020</td>\n",
       "      <td>$252.86</td>\n",
       "      <td>81013970</td>\n",
       "      <td>$247.51</td>\n",
       "      <td>$257.61</td>\n",
       "      <td>$238.4</td>\n",
       "    </tr>\n",
       "    <tr>\n",
       "      <th>7</th>\n",
       "      <td>03/16/2020</td>\n",
       "      <td>$242.21</td>\n",
       "      <td>80605870</td>\n",
       "      <td>$241.95</td>\n",
       "      <td>$259.08</td>\n",
       "      <td>$240</td>\n",
       "    </tr>\n",
       "    <tr>\n",
       "      <th>8</th>\n",
       "      <td>03/13/2020</td>\n",
       "      <td>$277.97</td>\n",
       "      <td>92683030</td>\n",
       "      <td>$264.89</td>\n",
       "      <td>$279.92</td>\n",
       "      <td>$252.95</td>\n",
       "    </tr>\n",
       "    <tr>\n",
       "      <th>9</th>\n",
       "      <td>03/12/2020</td>\n",
       "      <td>$248.23</td>\n",
       "      <td>104618500</td>\n",
       "      <td>$255.94</td>\n",
       "      <td>$270</td>\n",
       "      <td>$248</td>\n",
       "    </tr>\n",
       "    <tr>\n",
       "      <th>10</th>\n",
       "      <td>03/11/2020</td>\n",
       "      <td>$275.43</td>\n",
       "      <td>64094970</td>\n",
       "      <td>$277.39</td>\n",
       "      <td>$281.22</td>\n",
       "      <td>$271.86</td>\n",
       "    </tr>\n",
       "    <tr>\n",
       "      <th>11</th>\n",
       "      <td>03/10/2020</td>\n",
       "      <td>$285.34</td>\n",
       "      <td>71322520</td>\n",
       "      <td>$277.14</td>\n",
       "      <td>$286.44</td>\n",
       "      <td>$269.37</td>\n",
       "    </tr>\n",
       "    <tr>\n",
       "      <th>12</th>\n",
       "      <td>03/09/2020</td>\n",
       "      <td>$266.17</td>\n",
       "      <td>71686210</td>\n",
       "      <td>$263.75</td>\n",
       "      <td>$278.09</td>\n",
       "      <td>$263</td>\n",
       "    </tr>\n",
       "    <tr>\n",
       "      <th>13</th>\n",
       "      <td>03/06/2020</td>\n",
       "      <td>$289.03</td>\n",
       "      <td>56544250</td>\n",
       "      <td>$282</td>\n",
       "      <td>$290.82</td>\n",
       "      <td>$281.23</td>\n",
       "    </tr>\n",
       "    <tr>\n",
       "      <th>14</th>\n",
       "      <td>03/05/2020</td>\n",
       "      <td>$292.92</td>\n",
       "      <td>46893220</td>\n",
       "      <td>$295.52</td>\n",
       "      <td>$299.55</td>\n",
       "      <td>$291.41</td>\n",
       "    </tr>\n",
       "    <tr>\n",
       "      <th>15</th>\n",
       "      <td>03/04/2020</td>\n",
       "      <td>$302.74</td>\n",
       "      <td>54794570</td>\n",
       "      <td>$296.44</td>\n",
       "      <td>$303.4</td>\n",
       "      <td>$293.13</td>\n",
       "    </tr>\n",
       "    <tr>\n",
       "      <th>16</th>\n",
       "      <td>03/03/2020</td>\n",
       "      <td>$289.32</td>\n",
       "      <td>79868850</td>\n",
       "      <td>$303.67</td>\n",
       "      <td>$304</td>\n",
       "      <td>$285.8</td>\n",
       "    </tr>\n",
       "    <tr>\n",
       "      <th>17</th>\n",
       "      <td>03/02/2020</td>\n",
       "      <td>$298.81</td>\n",
       "      <td>85349340</td>\n",
       "      <td>$282.28</td>\n",
       "      <td>$301.44</td>\n",
       "      <td>$277.72</td>\n",
       "    </tr>\n",
       "    <tr>\n",
       "      <th>18</th>\n",
       "      <td>02/28/2020</td>\n",
       "      <td>$273.36</td>\n",
       "      <td>106721200</td>\n",
       "      <td>$257.26</td>\n",
       "      <td>$278.41</td>\n",
       "      <td>$256.37</td>\n",
       "    </tr>\n",
       "    <tr>\n",
       "      <th>19</th>\n",
       "      <td>02/27/2020</td>\n",
       "      <td>$273.52</td>\n",
       "      <td>80151380</td>\n",
       "      <td>$281.1</td>\n",
       "      <td>$286</td>\n",
       "      <td>$272.96</td>\n",
       "    </tr>\n",
       "    <tr>\n",
       "      <th>20</th>\n",
       "      <td>02/26/2020</td>\n",
       "      <td>$292.65</td>\n",
       "      <td>49678430</td>\n",
       "      <td>$286.53</td>\n",
       "      <td>$297.88</td>\n",
       "      <td>$286.5</td>\n",
       "    </tr>\n",
       "  </tbody>\n",
       "</table>\n",
       "</div>"
      ],
      "text/plain": [
       "          Date  Close/Last     Volume       Open        High       Low\n",
       "0   03/25/2020     $245.52   75900510    $250.75     $258.25    $244.3\n",
       "1   03/24/2020     $246.88   71882770    $236.36     $247.69    $234.3\n",
       "2   03/23/2020     $224.37   84188210    $228.08   $228.4997   $212.61\n",
       "3   03/20/2020     $229.24  100423300    $247.18     $251.83      $228\n",
       "4   03/19/2020     $244.78   67964260   $247.385     $252.84   $242.61\n",
       "5   03/18/2020     $246.67   75058410    $239.77        $250   $237.12\n",
       "6   03/17/2020     $252.86   81013970    $247.51     $257.61    $238.4\n",
       "7   03/16/2020     $242.21   80605870    $241.95     $259.08      $240\n",
       "8   03/13/2020     $277.97   92683030    $264.89     $279.92   $252.95\n",
       "9   03/12/2020     $248.23  104618500    $255.94        $270      $248\n",
       "10  03/11/2020     $275.43   64094970    $277.39     $281.22   $271.86\n",
       "11  03/10/2020     $285.34   71322520    $277.14     $286.44   $269.37\n",
       "12  03/09/2020     $266.17   71686210    $263.75     $278.09      $263\n",
       "13  03/06/2020     $289.03   56544250       $282     $290.82   $281.23\n",
       "14  03/05/2020     $292.92   46893220    $295.52     $299.55   $291.41\n",
       "15  03/04/2020     $302.74   54794570    $296.44      $303.4   $293.13\n",
       "16  03/03/2020     $289.32   79868850    $303.67        $304    $285.8\n",
       "17  03/02/2020     $298.81   85349340    $282.28     $301.44   $277.72\n",
       "18  02/28/2020     $273.36  106721200    $257.26     $278.41   $256.37\n",
       "19  02/27/2020     $273.52   80151380     $281.1        $286   $272.96\n",
       "20  02/26/2020     $292.65   49678430    $286.53     $297.88    $286.5"
      ]
     },
     "execution_count": 124,
     "metadata": {},
     "output_type": "execute_result"
    }
   ],
   "source": [
    "data.head(50)"
   ]
  },
  {
   "cell_type": "code",
   "execution_count": 167,
   "metadata": {},
   "outputs": [],
   "source": [
    "array = data.values\n",
    "for y in range(len(array)):\n",
    "    for x in range(1,6):\n",
    "        currency = str(array[y,x])\n",
    "        if currency[1] == '$':\n",
    "                array[y,x] = currency[2:]"
   ]
  },
  {
   "cell_type": "code",
   "execution_count": 168,
   "metadata": {},
   "outputs": [
    {
     "data": {
      "text/plain": [
       "array([['03/25/2020', '245.52', 75900510, '250.75', '258.25', '244.3'],\n",
       "       ['03/24/2020', '246.88', 71882770, '236.36', '247.69', '234.3'],\n",
       "       ['03/23/2020', '224.37', 84188210, '228.08', '228.4997', '212.61'],\n",
       "       ['03/20/2020', '229.24', 100423300, '247.18', '251.83', '228'],\n",
       "       ['03/19/2020', '244.78', 67964260, '247.385', '252.84', '242.61']],\n",
       "      dtype=object)"
      ]
     },
     "execution_count": 168,
     "metadata": {},
     "output_type": "execute_result"
    }
   ],
   "source": [
    "array[0:5, :]"
   ]
  },
  {
   "cell_type": "code",
   "execution_count": 169,
   "metadata": {},
   "outputs": [
    {
     "name": "stdout",
     "output_type": "stream",
     "text": [
      "             Volume\n",
      "count  2.100000e+01\n",
      "mean   7.625923e+07\n",
      "std    1.658629e+07\n",
      "min    4.689322e+07\n",
      "25%    6.796426e+07\n",
      "50%    7.590051e+07\n",
      "75%    8.418821e+07\n",
      "max    1.067212e+08\n"
     ]
    }
   ],
   "source": [
    "print(data.describe())"
   ]
  },
  {
   "cell_type": "code",
   "execution_count": 14,
   "metadata": {},
   "outputs": [
    {
     "data": {
      "text/plain": [
       " Volume    AxesSubplot(0.125,0.125;0.775x0.755)\n",
       "dtype: object"
      ]
     },
     "execution_count": 14,
     "metadata": {},
     "output_type": "execute_result"
    },
    {
     "data": {
      "image/png": "[encoded data removed]",
      "text/plain": [
       "<Figure size 432x288 with 1 Axes>"
      ]
     },
     "metadata": {
      "needs_background": "light"
     },
     "output_type": "display_data"
    }
   ],
   "source": [
    "data.plot(kind='box', subplots='true')"
   ]
  },
  {
   "cell_type": "code",
   "execution_count": 22,
   "metadata": {},
   "outputs": [
    {
     "data": {
      "text/plain": [
       "array([[<matplotlib.axes._subplots.AxesSubplot object at 0x1206c0e90>]],\n",
       "      dtype=object)"
      ]
     },
     "execution_count": 22,
     "metadata": {},
     "output_type": "execute_result"
    },
    {
     "data": {
      "image/png": "[encoded data removed]",
      "text/plain": [
       "<Figure size 432x288 with 1 Axes>"
      ]
     },
     "metadata": {
      "needs_background": "light"
     },
     "output_type": "display_data"
    }
   ],
   "source": [
    "data.hist()"
   ]
  },
  {
   "cell_type": "code",
   "execution_count": 37,
   "metadata": {},
   "outputs": [
    {
     "data": {
      "image/png": "[encoded data removed]",
      "text/plain": [
       "<Figure size 504x504 with 1 Axes>"
      ]
     },
     "metadata": {
      "needs_background": "light"
     },
     "output_type": "display_data"
    }
   ],
   "source": [
    "pandas.plotting.scatter_matrix(data, figsize=(7,7))\n",
    "pyplot.show()"
   ]
  },
  {
   "cell_type": "code",
   "execution_count": 38,
   "metadata": {},
   "outputs": [
    {
     "data": {
      "text/html": [
       "<div>\n",
       "<style scoped>\n",
       "    .dataframe tbody tr th:only-of-type {\n",
       "        vertical-align: middle;\n",
       "    }\n",
       "\n",
       "    .dataframe tbody tr th {\n",
       "        vertical-align: top;\n",
       "    }\n",
       "\n",
       "    .dataframe thead th {\n",
       "        text-align: right;\n",
       "    }\n",
       "</style>\n",
       "<table border=\"1\" class=\"dataframe\">\n",
       "  <thead>\n",
       "    <tr style=\"text-align: right;\">\n",
       "      <th></th>\n",
       "      <th>Date</th>\n",
       "      <th>Close/Last</th>\n",
       "      <th>Volume</th>\n",
       "      <th>Open</th>\n",
       "      <th>High</th>\n",
       "      <th>Low</th>\n",
       "    </tr>\n",
       "  </thead>\n",
       "  <tbody>\n",
       "    <tr>\n",
       "      <th>0</th>\n",
       "      <td>03/25/2020</td>\n",
       "      <td>$245.52</td>\n",
       "      <td>75900510</td>\n",
       "      <td>$250.75</td>\n",
       "      <td>$258.25</td>\n",
       "      <td>$244.3</td>\n",
       "    </tr>\n",
       "    <tr>\n",
       "      <th>1</th>\n",
       "      <td>03/24/2020</td>\n",
       "      <td>$246.88</td>\n",
       "      <td>71882770</td>\n",
       "      <td>$236.36</td>\n",
       "      <td>$247.69</td>\n",
       "      <td>$234.3</td>\n",
       "    </tr>\n",
       "    <tr>\n",
       "      <th>2</th>\n",
       "      <td>03/23/2020</td>\n",
       "      <td>$224.37</td>\n",
       "      <td>84188210</td>\n",
       "      <td>$228.08</td>\n",
       "      <td>$228.4997</td>\n",
       "      <td>$212.61</td>\n",
       "    </tr>\n",
       "    <tr>\n",
       "      <th>3</th>\n",
       "      <td>03/20/2020</td>\n",
       "      <td>$229.24</td>\n",
       "      <td>100423300</td>\n",
       "      <td>$247.18</td>\n",
       "      <td>$251.83</td>\n",
       "      <td>$228</td>\n",
       "    </tr>\n",
       "    <tr>\n",
       "      <th>4</th>\n",
       "      <td>03/19/2020</td>\n",
       "      <td>$244.78</td>\n",
       "      <td>67964260</td>\n",
       "      <td>$247.385</td>\n",
       "      <td>$252.84</td>\n",
       "      <td>$242.61</td>\n",
       "    </tr>\n",
       "  </tbody>\n",
       "</table>\n",
       "</div>"
      ],
      "text/plain": [
       "         Date  Close/Last     Volume       Open        High       Low\n",
       "0  03/25/2020     $245.52   75900510    $250.75     $258.25    $244.3\n",
       "1  03/24/2020     $246.88   71882770    $236.36     $247.69    $234.3\n",
       "2  03/23/2020     $224.37   84188210    $228.08   $228.4997   $212.61\n",
       "3  03/20/2020     $229.24  100423300    $247.18     $251.83      $228\n",
       "4  03/19/2020     $244.78   67964260   $247.385     $252.84   $242.61"
      ]
     },
     "execution_count": 38,
     "metadata": {},
     "output_type": "execute_result"
    }
   ],
   "source": [
    "data.head(5)"
   ]
  },
  {
   "cell_type": "code",
   "execution_count": 170,
   "metadata": {},
   "outputs": [
    {
     "name": "stdout",
     "output_type": "stream",
     "text": [
      "(16, 4) (16,) (4, 4) (4,)\n"
     ]
    }
   ],
   "source": [
    "# Okay I want My data to look like this:\n",
    "#X_Train = Previous_high, Previous_Low, Open\n",
    "#Y_Train = Close / Last \n",
    "X = numpy.append(array[1:, 4:6], array[:-1, 2:4], axis=1)\n",
    "Y = array[:-1, 1]\n",
    "for index, element in enumerate(Y):\n",
    "    if Y[index] > X[index,3]:\n",
    "        Y[index] = 'Increase'\n",
    "    else:\n",
    "        Y[index] = 'Decrease'\n",
    "X_Train, X_Validation, Y_Train, Y_Validation = sklearn.model_selection.train_test_split(X, Y, test_size=0.2, random_state=1)\n",
    "print(X_Train.shape, Y_Train.shape, X_Validation.shape, Y_Validation.shape)"
   ]
  },
  {
   "cell_type": "code",
   "execution_count": 171,
   "metadata": {},
   "outputs": [
    {
     "name": "stdout",
     "output_type": "stream",
     "text": [
      "[['251.83' '228' 84188210 '228.08']\n",
      " ['303.4' '293.13' 46893220 '295.52']\n",
      " ['250' '237.12' 67964260 '247.385']\n",
      " ['278.41' '256.37' 85349340 '282.28']\n",
      " ['279.92' '252.95' 80605870 '241.95']] ['Decrease' 'Decrease' 'Decrease' 'Increase' 'Increase']\n"
     ]
    }
   ],
   "source": [
    "print (X_Train[0:5, :], Y_Train[0:5])"
   ]
  },
  {
   "cell_type": "code",
   "execution_count": 173,
   "metadata": {},
   "outputs": [
    {
     "name": "stdout",
     "output_type": "stream",
     "text": [
      "LR, 0.625000, (0.000000)\n",
      "LDA, 0.250000, (0.000000)\n",
      "KNN, 0.500000, (0.125000)\n",
      "CART, 0.312500, (0.062500)\n",
      "NB, 0.250000, (0.000000)\n",
      "SVM, 0.625000, (0.000000)\n"
     ]
    }
   ],
   "source": [
    "models = []\n",
    "models.append(('LR', LogisticRegression(solver = 'liblinear', multi_class='ovr')))\n",
    "models.append(('LDA', LinearDiscriminantAnalysis()))\n",
    "models.append(('KNN', KNeighborsClassifier()))\n",
    "models.append(('CART', DecisionTreeClassifier()))\n",
    "models.append(('NB', GaussianNB()))\n",
    "models.append(('SVM', SVC(gamma='auto')))\n",
    "\n",
    "#Evaluate each model in turn\n",
    "results = []\n",
    "names = []\n",
    "for name, model in models:\n",
    "    kfold=StratifiedKFold(n_splits=2, random_state=1, shuffle=True)\n",
    "    cv_results = sklearn.model_selection.cross_val_score(model, X_Train, Y_Train, cv=kfold, scoring='accuracy')\n",
    "    results.append(cv_results)\n",
    "    names.append(name)\n",
    "    print ('%s, %f, (%f)' % (name, cv_results.mean(), cv_results.std()))\n",
    "    "
   ]
  },
  {
   "cell_type": "code",
   "execution_count": 174,
   "metadata": {},
   "outputs": [],
   "source": [
    "model = SVC(gamma='auto')\n",
    "model.fit(X_Train, Y_Train)\n",
    "predictions = model.predict(X_Validation)"
   ]
  },
  {
   "cell_type": "code",
   "execution_count": 175,
   "metadata": {},
   "outputs": [
    {
     "data": {
      "image/png": "[encoded data removed]",
      "text/plain": [
       "<Figure size 432x288 with 1 Axes>"
      ]
     },
     "metadata": {
      "needs_background": "light"
     },
     "output_type": "display_data"
    }
   ],
   "source": [
    "pyplot.plot(predictions)\n",
    "pyplot.plot(Y_Validation)\n",
    "pyplot.show()"
   ]
  },
  {
   "cell_type": "code",
   "execution_count": 176,
   "metadata": {},
   "outputs": [
    {
     "data": {
      "text/plain": [
       "(4,)"
      ]
     },
     "execution_count": 176,
     "metadata": {},
     "output_type": "execute_result"
    }
   ],
   "source": [
    "predictions.shape"
   ]
  },
  {
   "cell_type": "code",
   "execution_count": 177,
   "metadata": {},
   "outputs": [
    {
     "name": "stdout",
     "output_type": "stream",
     "text": [
      "['Decrease' 'Decrease' 'Increase' 'Decrease']\n"
     ]
    }
   ],
   "source": [
    "print(Y_Validation)"
   ]
  },
  {
   "cell_type": "code",
   "execution_count": 178,
   "metadata": {},
   "outputs": [
    {
     "name": "stdout",
     "output_type": "stream",
     "text": [
      "['Increase' 'Increase' 'Increase' 'Increase']\n"
     ]
    }
   ],
   "source": [
    "print (predictions)"
   ]
  },
  {
   "cell_type": "code",
   "execution_count": null,
   "metadata": {},
   "outputs": [],
   "source": []
  }
 ],
 "metadata": {
  "kernelspec": {
   "display_name": "Python 3",
   "language": "python",
   "name": "python3"
  },
  "language_info": {
   "codemirror_mode": {
    "name": "ipython",
    "version": 3
   },
   "file_extension": ".py",
   "mimetype": "text/x-python",
   "name": "python",
   "nbconvert_exporter": "python",
   "pygments_lexer": "ipython3",
   "version": "3.7.7"
  }
 },
 "nbformat": 4,
 "nbformat_minor": 4
}
