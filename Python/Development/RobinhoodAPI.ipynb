{
 "cells": [
  {
   "cell_type": "code",
   "execution_count": 14,
   "metadata": {},
   "outputs": [],
   "source": [
    "import robin_stocks\n",
    "import pyotp\n",
    "from robin_stocks import *\n",
    "# MFA: LQMLQPGPNGQFSOG2\n",
    "# Bakup: 199562 845770"
   ]
  },
  {
   "cell_type": "code",
   "execution_count": 15,
   "metadata": {},
   "outputs": [],
   "source": [
    "def login(username, password):\n",
    "    totp  = pyotp.TOTP(\"LQMLQPGPNGQFSOG2\").now()\n",
    "    print(\"Current OTP:\", totp)\n",
    "    return robin_stocks.robinhood.login(username, password, 86400, mfa_code=totp)\n",
    "\n"
   ]
  },
  {
   "cell_type": "code",
   "execution_count": 3,
   "metadata": {},
   "outputs": [],
   "source": [
    "def get_holdings():\n",
    "    my_stocks = robin_stocks.robinhood.build_holdings()\n",
    "    return my_stocks"
   ]
  },
  {
   "cell_type": "code",
   "execution_count": 4,
   "metadata": {},
   "outputs": [],
   "source": [
    "def get_funds():\n",
    "    funds = load_account_profile()\n",
    "    return funds['cash']"
   ]
  },
  {
   "cell_type": "code",
   "execution_count": 5,
   "metadata": {},
   "outputs": [],
   "source": [
    "def get_current_ticker_price(Ticker):\n",
    "    return robin_stocks.robinhood.get_latest_price(Ticker)"
   ]
  },
  {
   "cell_type": "code",
   "execution_count": 6,
   "metadata": {},
   "outputs": [],
   "source": [
    "def build_profile():\n",
    "    return robin_stocks.robinhood.build_user_profile()"
   ]
  },
  {
   "cell_type": "code",
   "execution_count": 7,
   "metadata": {},
   "outputs": [],
   "source": [
    "def load_account_profile():\n",
    "    return robin_stocks.robinhood.profiles.load_account_profile()"
   ]
  },
  {
   "cell_type": "code",
   "execution_count": 8,
   "metadata": {},
   "outputs": [],
   "source": [
    "def purchase_stocks_market_order (Ticker, quantity):\n",
    "    #robin_stocks.robinhood.order_buy_market(Ticker, quantity)\n",
    "    return 1"
   ]
  },
  {
   "cell_type": "code",
   "execution_count": 9,
   "metadata": {},
   "outputs": [],
   "source": [
    "def sell_stocks_market_order (Ticker, quantity):\n",
    "    #robin_stocks.robinhood.order_sell_market(Ticker, quantity)\n",
    "    return 1"
   ]
  },
  {
   "cell_type": "code",
   "execution_count": 10,
   "metadata": {},
   "outputs": [],
   "source": [
    "def sell_stocks_limit_order (Ticker, quantity, limit_price):\n",
    "    #robin_stocks.order_sell_limit(Ticker,quantity,limit_price)\n",
    "    return 1"
   ]
  },
  {
   "cell_type": "code",
   "execution_count": 11,
   "metadata": {},
   "outputs": [],
   "source": [
    "def purchase_stocks_maximum_amount(Ticker):\n",
    "    current_stock_price = robin_stocks.robinhood.get_latest_price(Ticker)\n",
    "    current_funds = get_funds()\n",
    "    stock_purchase_quantity = int(float(current_funds) / float(current_stock_price[0]))\n",
    "    \n",
    "    #purchase_stocks_market_order (Ticker, stock_purchase_quantity)\n",
    "    \n",
    "    return stock_purchase_quantity"
   ]
  },
  {
   "cell_type": "code",
   "execution_count": 19,
   "metadata": {},
   "outputs": [],
   "source": [
    "#MFA: JLON5HQTEVQK3VQM\n",
    "#    Bakup: 199562 845770"
   ]
  },
  {
   "cell_type": "code",
   "execution_count": 20,
   "metadata": {},
   "outputs": [],
   "source": [
    "#pyotp.TOTP(\"LQMLQPGPNGQFSOG2\").now()"
   ]
  },
  {
   "cell_type": "code",
   "execution_count": 21,
   "metadata": {},
   "outputs": [],
   "source": [
    "#login(\"benjnkns@gmail.com\", \"4tpHFM0c646kponZN\")"
   ]
  },
  {
   "cell_type": "code",
   "execution_count": null,
   "metadata": {},
   "outputs": [],
   "source": []
  }
 ],
 "metadata": {
  "kernelspec": {
   "display_name": "Python 3",
   "language": "python",
   "name": "python3"
  },
  "language_info": {
   "codemirror_mode": {
    "name": "ipython",
    "version": 3
   },
   "file_extension": ".py",
   "mimetype": "text/x-python",
   "name": "python",
   "nbconvert_exporter": "python",
   "pygments_lexer": "ipython3",
   "version": "3.8.2"
  }
 },
 "nbformat": 4,
 "nbformat_minor": 4
}
