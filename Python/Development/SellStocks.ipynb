{
 "cells": [
  {
   "cell_type": "code",
   "execution_count": 2,
   "metadata": {},
   "outputs": [
    {
     "name": "stdout",
     "output_type": "stream",
     "text": [
      "importing Jupyter notebook from Main.ipynb\n",
      "importing Jupyter notebook from RobinhoodAPI.ipynb\n",
      "importing Jupyter notebook from Engine.ipynb\n",
      "importing Jupyter notebook from Data.ipynb\n"
     ]
    },
    {
     "name": "stderr",
     "output_type": "stream",
     "text": [
      "/Library/Frameworks/Python.framework/Versions/3.8/lib/python3.8/site-packages/pandas_datareader/compat/__init__.py:7: FutureWarning: pandas.util.testing is deprecated. Use the functions in the public API at pandas.testing instead.\n",
      "  from pandas.util.testing import assert_frame_equal\n"
     ]
    },
    {
     "name": "stdout",
     "output_type": "stream",
     "text": [
      "importing Jupyter notebook from Analytics.ipynb\n",
      "importing Jupyter notebook from Analytics.ipynb\n",
      "importing Jupyter notebook from Data.ipynb\n",
      "importing Jupyter notebook from Analytics.ipynb\n",
      "importing Jupyter notebook from Models.ipynb\n",
      "importing Jupyter notebook from Models.ipynb\n",
      "importing Jupyter notebook from Engine.ipynb\n",
      "importing Jupyter notebook from Data.ipynb\n",
      "importing Jupyter notebook from Analytics.ipynb\n",
      "importing Jupyter notebook from Models.ipynb\n"
     ]
    }
   ],
   "source": [
    "import importlib\n",
    "import import_ipynb\n",
    "\n",
    "#MY STUFF\n",
    "import Main\n",
    "from Main import sell"
   ]
  },
  {
   "cell_type": "code",
   "execution_count": 3,
   "metadata": {},
   "outputs": [
    {
     "name": "stdout",
     "output_type": "stream",
     "text": [
      "2020-10-27\n",
      "Loggin into Robinhood...\n",
      "\n",
      "Robinhood Profile: \n",
      "{'equity': '1266.7860', 'extended_hours_equity': '1262.2900', 'cash': '1.32', 'dividend_total': 0.1}\n",
      "\n",
      "Holdings: \n",
      "AAPL {'price': '116.120000', 'quantity': '9.00000000', 'average_buy_price': '117.1500', 'equity': '1045.08', 'percent_change': '-0.88', 'equity_change': '-9.270000', 'type': 'stock', 'name': 'Apple', 'id': '450dfc6d-5510-4d40-abfb-f633b7d9be3e', 'pe_ratio': '34.974000', 'percentage': '82.58'}\n",
      "\n",
      "GDRX {'price': '49.160000', 'quantity': '4.00000000', 'average_buy_price': '48.4000', 'equity': '196.64', 'percent_change': '1.57', 'equity_change': '3.040000', 'type': 'stock', 'name': 'GoodRx', 'id': '05772832-6d86-4bc1-8497-cf1595efdbc7', 'pe_ratio': '226.001000', 'percentage': '15.54'}\n",
      "\n",
      "IDEX {'price': '0.875000', 'quantity': '22.00000000', 'average_buy_price': '0.9500', 'equity': '19.25', 'percent_change': '-7.89', 'equity_change': '-1.650000', 'type': 'stock', 'name': 'Ideanomics', 'id': '61fec2c4-2c8e-470d-88b1-6e211f004d1e', 'pe_ratio': None, 'percentage': '1.52'}\n",
      "\n",
      "Selling 9.00000000 stocks of AAPL at a limit price of 115.12\n",
      "\n",
      "Confirmation\n"
     ]
    }
   ],
   "source": [
    "sell()"
   ]
  },
  {
   "cell_type": "code",
   "execution_count": null,
   "metadata": {},
   "outputs": [],
   "source": [
    "#YAAAAAYYYYYYY"
   ]
  }
 ],
 "metadata": {
  "kernelspec": {
   "display_name": "Python 3",
   "language": "python",
   "name": "python3"
  },
  "language_info": {
   "codemirror_mode": {
    "name": "ipython",
    "version": 3
   },
   "file_extension": ".py",
   "mimetype": "text/x-python",
   "name": "python",
   "nbconvert_exporter": "python",
   "pygments_lexer": "ipython3",
   "version": "3.8.2"
  }
 },
 "nbformat": 4,
 "nbformat_minor": 4
}
