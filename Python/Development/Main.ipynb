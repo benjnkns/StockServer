{
 "cells": [
  {
   "cell_type": "code",
   "execution_count": 21,
   "metadata": {},
   "outputs": [
    {
     "name": "stdout",
     "output_type": "stream",
     "text": [
      "importing Jupyter notebook from RobinhoodAPI.ipynb\n",
      "importing Jupyter notebook from Engine.ipynb\n",
      "importing Jupyter notebook from Data.ipynb\n",
      "importing Jupyter notebook from Analytics.ipynb\n",
      "importing Jupyter notebook from Models.ipynb\n"
     ]
    }
   ],
   "source": [
    "import importlib\n",
    "import import_ipynb\n",
    "import datetime\n",
    "from datetime import timedelta\n",
    "import time\n",
    "\n",
    "# MY STUFF\n",
    "import RobinhoodAPI\n",
    "importlib.reload(RobinhoodAPI)\n",
    "from RobinhoodAPI import login\n",
    "from RobinhoodAPI import get_holdings\n",
    "from RobinhoodAPI import get_funds\n",
    "from RobinhoodAPI import build_profile\n",
    "from RobinhoodAPI import purchase_stocks_maximum_amount\n",
    "from RobinhoodAPI import sell_stocks_limit_order\n",
    "from RobinhoodAPI import get_current_ticker_price\n",
    "\n",
    "import Engine\n",
    "importlib.reload(Engine)\n",
    "from Engine import make_predictions"
   ]
  },
  {
   "cell_type": "code",
   "execution_count": 25,
   "metadata": {},
   "outputs": [],
   "source": [
    "def buy():\n",
    "    \n",
    "    #Tickers to evaluate\n",
    "    #tickers = ['ATVI','BABA','GOOGL','AMZN','AMC','AMD','AAL','APHA','AAPL','T','ACB','BAC','BYND','BA','BP','CGC','CCL','CPRX','KO','CRON','PLAY','DAL','GUSH','DIS','DKNG','ET','XOM','FB','FIT','F','FCEL','GE','GILD','GM','GPRO','HAL','HEXO','INO','INTC','IVR','JBLU','JNJ','JPM','KODK','KOS','LYFT','MRO','MFA','MGM','MSFT','MRNA','NFLX','NRZ','NKE','NKLA','NTDOY','NIO','NOK','NCLH','NVDA','OGI','PYPL','PTON','PENN','PFE','PLUG','SPHD','UCO','PSEC','RKT','RCL','SIRI','WORK','SNAP','SNE','SRNE','LUV','SPY','SAVE','SQ','SBUX','TCEHY','TSLA','TXMD','TLRY','TWTR','UBER','UAL','USO','VOO','VTI','SPCE','V','WMT','WFC','WKHS','ZM','ZNGA']\n",
    "    tickers = ['ATVI', 'BABA']\n",
    "    #log into robinhood\n",
    "    print (datetime.date.today())\n",
    "    print (\"Loggin into Robinhood...\")\n",
    "    login(\"benjnkns@gmail.com\", \"4tpHFM0c646kponZN\")\n",
    "    time.sleep(2)\n",
    "    #analyze the market\n",
    "    print (\"Analyzing the Market...\")\n",
    "    print (\"Making predictions...\")\n",
    "    predictions = make_predictions(tickers, datetime.date.today(), 10)\n",
    "    \n",
    "    #decide which stock to buy\n",
    "    total_gains = []\n",
    "    for i in range(0, len(tickers)):\n",
    "        total_gains.append(predictions[i][2] - predictions[i][1])\n",
    "        print (tickers[i] + \"is expected to gain \" + str(total_gains[i]))\n",
    "    max_gain = max(total_gains)\n",
    "    stock_to_purchase = tickers[total_gains.index(max_gain)]\n",
    "    \n",
    "    #purchase the stock\n",
    "    if (max_gain > 0):\n",
    "        stocks_purchased = purchase_stocks_maximum_amount(stock_to_purchase)\n",
    "    else:\n",
    "        stocks_purchased = 0\n",
    "        \n",
    "    #print summary\n",
    "    print (\"Purchased \" + str(stocks_purchased) + \" stocks of \" + stock_to_purchase)"
   ]
  },
  {
   "cell_type": "code",
   "execution_count": 23,
   "metadata": {},
   "outputs": [],
   "source": [
    "def sell () :\n",
    "    \n",
    "    #Tickers to evaluate\n",
    "    tickers = ['ATVI','BABA','GOOGL','AMZN','AMC','AMD','AAL','APHA','AAPL','T','ACB','BAC','BYND','BA','BP','CGC','CCL','CPRX','KO','CRON','PLAY','DAL','GUSH','DIS','DKNG','ET','XOM','FB','FIT','F','FCEL','GE','GILD','GM','GPRO','HAL','HEXO','INO','INTC','IVR','JBLU','JNJ','JPM','KODK','KOS','LYFT','MRO','MFA','MGM','MSFT','MRNA','NFLX','NRZ','NKE','NKLA','NTDOY','NIO','NOK','NCLH','NVDA','OGI','PYPL','PTON','PENN','PFE','PLUG','SPHD','UCO','PSEC','RKT','RCL','SIRI','WORK','SNAP','SNE','SRNE','LUV','SPY','SAVE','SQ','SBUX','TCEHY','TSLA','TXMD','TLRY','TWTR','UBER','UAL','USO','VOO','VTI','SPCE','V','WMT','WFC','WKHS','ZM','ZNGA']\n",
    "    \n",
    "    #log into robinhood\n",
    "    print (datetime.date.today())\n",
    "    print (\"Loggin into Robinhood...\")\n",
    "    login(\"benjnkns@gmail.com\", \"4tpHFM0c646kponZN\")\n",
    "    \n",
    "    #Display Profile Status\n",
    "    RobinhoodProfile = build_profile()\n",
    "    print (\"\\nRobinhood Profile: \")\n",
    "    print (RobinhoodProfile)\n",
    "    \n",
    "    #Get stocks\n",
    "    holdings = get_holdings()\n",
    "    print (\"\\nHoldings: \")\n",
    "    for holding in holdings:\n",
    "        print (holding + \" \" + str(holdings[holding]) + '\\n')\n",
    "    \n",
    "    \n",
    "    #sell all positions \n",
    "    #NOTE: If you want to, you could exclude certain positions in this statement to avoid selling them.\n",
    "    #OR just like, sell all AAPL, MCK, ETC, ... you know, like the 5 stocks I'm analyzing.\n",
    "    \n",
    "    for ticker in holdings:\n",
    "        if (ticker in tickers): \n",
    "            #Calculate how many shares to sell and at what price.\n",
    "            current_market_price = float(get_current_ticker_price(ticker)[0])\n",
    "            limit_order_price = current_market_price - 1.00\n",
    "            number_stocks_held = holdings.get(ticker).get('quantity')\n",
    "            \n",
    "            #sell stocks\n",
    "            sell_stocks_limit_order(ticker, number_stocks_held, limit_order_price)\n",
    "            print (\"Selling \" + str(number_stocks_held) + \" stocks of \" + ticker + \" at a limit price of \" + str(limit_order_price))\n",
    "            \n",
    "    #Print Confirmation\n",
    "    print (\"\\nConfirmation\")"
   ]
  },
  {
   "cell_type": "code",
   "execution_count": 26,
   "metadata": {},
   "outputs": [
    {
     "name": "stdout",
     "output_type": "stream",
     "text": [
      "2021-07-16\n",
      "Loggin into Robinhood...\n",
      "Current OTP: 975871\n",
      "ERROR: There was an issue loading pickle file. Authentication may be expired - logging in normally.\n"
     ]
    },
    {
     "name": "stderr",
     "output_type": "stream",
     "text": [
      "Exception in thread Thread-8:\n",
      "Traceback (most recent call last):\n",
      "  File \"/Library/Frameworks/Python.framework/Versions/3.8/lib/python3.8/threading.py\", line 932, in _bootstrap_inner\n",
      "    self.run()\n",
      "  File \"/Library/Frameworks/Python.framework/Versions/3.8/lib/python3.8/threading.py\", line 870, in run\n",
      "    self._target(*self._args, **self._kwargs)\n",
      "  File \"/Library/Frameworks/Python.framework/Versions/3.8/lib/python3.8/site-packages/multitasking/__init__.py\", line 102, in _run_via_pool\n",
      "    return callee(*args, **kwargs)\n",
      "  File \"/Library/Frameworks/Python.framework/Versions/3.8/lib/python3.8/site-packages/yfinance/multi.py\", line 166, in _download_one_threaded\n",
      "    data = _download_one(ticker, start, end, auto_adjust, back_adjust,\n",
      "  File \"/Library/Frameworks/Python.framework/Versions/3.8/lib/python3.8/site-packages/yfinance/multi.py\", line 178, in _download_one\n",
      "    return Ticker(ticker).history(period=period, interval=interval,\n",
      "  File \"/Library/Frameworks/Python.framework/Versions/3.8/lib/python3.8/site-packages/yfinance/base.py\", line 155, in history\n",
      "    data = data.json()\n",
      "  File \"/Library/Frameworks/Python.framework/Versions/3.8/lib/python3.8/site-packages/requests/models.py\", line 898, in json\n",
      "    return complexjson.loads(self.text, **kwargs)\n",
      "  File \"/Library/Frameworks/Python.framework/Versions/3.8/lib/python3.8/json/__init__.py\", line 357, in loads\n",
      "    return _default_decoder.decode(s)\n",
      "  File \"/Library/Frameworks/Python.framework/Versions/3.8/lib/python3.8/json/decoder.py\", line 337, in decode\n",
      "    obj, end = self.raw_decode(s, idx=_w(s, 0).end())\n",
      "  File \"/Library/Frameworks/Python.framework/Versions/3.8/lib/python3.8/json/decoder.py\", line 355, in raw_decode\n",
      "    raise JSONDecodeError(\"Expecting value\", s, err.value) from None\n",
      "json.decoder.JSONDecodeError: Expecting value: line 1 column 1 (char 0)\n"
     ]
    },
    {
     "name": "stdout",
     "output_type": "stream",
     "text": [
      "Analyzing the Market...\n",
      "Making predictions...\n"
     ]
    },
    {
     "ename": "KeyboardInterrupt",
     "evalue": "",
     "output_type": "error",
     "traceback": [
      "\u001b[0;31m---------------------------------------------------------------------------\u001b[0m",
      "\u001b[0;31mKeyboardInterrupt\u001b[0m                         Traceback (most recent call last)",
      "\u001b[0;32m<ipython-input-26-413e813649d9>\u001b[0m in \u001b[0;36m<module>\u001b[0;34m\u001b[0m\n\u001b[0;32m----> 1\u001b[0;31m \u001b[0mbuy\u001b[0m\u001b[0;34m(\u001b[0m\u001b[0;34m)\u001b[0m\u001b[0;34m\u001b[0m\u001b[0;34m\u001b[0m\u001b[0m\n\u001b[0m",
      "\u001b[0;32m<ipython-input-25-a929c71d8e92>\u001b[0m in \u001b[0;36mbuy\u001b[0;34m()\u001b[0m\n\u001b[1;32m     12\u001b[0m     \u001b[0mprint\u001b[0m \u001b[0;34m(\u001b[0m\u001b[0;34m\"Analyzing the Market...\"\u001b[0m\u001b[0;34m)\u001b[0m\u001b[0;34m\u001b[0m\u001b[0;34m\u001b[0m\u001b[0m\n\u001b[1;32m     13\u001b[0m     \u001b[0mprint\u001b[0m \u001b[0;34m(\u001b[0m\u001b[0;34m\"Making predictions...\"\u001b[0m\u001b[0;34m)\u001b[0m\u001b[0;34m\u001b[0m\u001b[0;34m\u001b[0m\u001b[0m\n\u001b[0;32m---> 14\u001b[0;31m     \u001b[0mpredictions\u001b[0m \u001b[0;34m=\u001b[0m \u001b[0mmake_predictions\u001b[0m\u001b[0;34m(\u001b[0m\u001b[0mtickers\u001b[0m\u001b[0;34m,\u001b[0m \u001b[0mdatetime\u001b[0m\u001b[0;34m.\u001b[0m\u001b[0mdate\u001b[0m\u001b[0;34m.\u001b[0m\u001b[0mtoday\u001b[0m\u001b[0;34m(\u001b[0m\u001b[0;34m)\u001b[0m\u001b[0;34m,\u001b[0m \u001b[0;36m10\u001b[0m\u001b[0;34m)\u001b[0m\u001b[0;34m\u001b[0m\u001b[0;34m\u001b[0m\u001b[0m\n\u001b[0m\u001b[1;32m     15\u001b[0m \u001b[0;34m\u001b[0m\u001b[0m\n\u001b[1;32m     16\u001b[0m     \u001b[0;31m#decide which stock to buy\u001b[0m\u001b[0;34m\u001b[0m\u001b[0;34m\u001b[0m\u001b[0;34m\u001b[0m\u001b[0m\n",
      "\u001b[0;32m~/Documents/Home/StockServer/Python/Development/Engine.ipynb\u001b[0m in \u001b[0;36mmake_predictions\u001b[0;34m(tickers, date, days_out)\u001b[0m\n",
      "\u001b[0;32m~/Documents/Home/StockServer/Python/Development/Data.ipynb\u001b[0m in \u001b[0;36mbuild_training_set\u001b[0;34m(ticker, date, days_out)\u001b[0m\n",
      "\u001b[0;32m~/Documents/Home/StockServer/Python/Development/Data.ipynb\u001b[0m in \u001b[0;36mget_ticker_data\u001b[0;34m(ticker, start_date, end_date)\u001b[0m\n",
      "\u001b[0;32m/Library/Frameworks/Python.framework/Versions/3.8/lib/python3.8/site-packages/yfinance/multi.py\u001b[0m in \u001b[0;36mdownload\u001b[0;34m(tickers, start, end, actions, threads, group_by, auto_adjust, back_adjust, progress, period, interval, prepost, proxy, rounding, **kwargs)\u001b[0m\n\u001b[1;32m     93\u001b[0m                                    rounding=rounding)\n\u001b[1;32m     94\u001b[0m         \u001b[0;32mwhile\u001b[0m \u001b[0mlen\u001b[0m\u001b[0;34m(\u001b[0m\u001b[0mshared\u001b[0m\u001b[0;34m.\u001b[0m\u001b[0m_DFS\u001b[0m\u001b[0;34m)\u001b[0m \u001b[0;34m<\u001b[0m \u001b[0mlen\u001b[0m\u001b[0;34m(\u001b[0m\u001b[0mtickers\u001b[0m\u001b[0;34m)\u001b[0m\u001b[0;34m:\u001b[0m\u001b[0;34m\u001b[0m\u001b[0;34m\u001b[0m\u001b[0m\n\u001b[0;32m---> 95\u001b[0;31m             \u001b[0m_time\u001b[0m\u001b[0;34m.\u001b[0m\u001b[0msleep\u001b[0m\u001b[0;34m(\u001b[0m\u001b[0;36m0.01\u001b[0m\u001b[0;34m)\u001b[0m\u001b[0;34m\u001b[0m\u001b[0;34m\u001b[0m\u001b[0m\n\u001b[0m\u001b[1;32m     96\u001b[0m \u001b[0;34m\u001b[0m\u001b[0m\n\u001b[1;32m     97\u001b[0m     \u001b[0;31m# download synchronously\u001b[0m\u001b[0;34m\u001b[0m\u001b[0;34m\u001b[0m\u001b[0;34m\u001b[0m\u001b[0m\n",
      "\u001b[0;31mKeyboardInterrupt\u001b[0m: "
     ]
    }
   ],
   "source": [
    "buy()"
   ]
  },
  {
   "cell_type": "code",
   "execution_count": null,
   "metadata": {},
   "outputs": [],
   "source": []
  }
 ],
 "metadata": {
  "kernelspec": {
   "display_name": "Python 3",
   "language": "python",
   "name": "python3"
  },
  "language_info": {
   "codemirror_mode": {
    "name": "ipython",
    "version": 3
   },
   "file_extension": ".py",
   "mimetype": "text/x-python",
   "name": "python",
   "nbconvert_exporter": "python",
   "pygments_lexer": "ipython3",
   "version": "3.8.2"
  }
 },
 "nbformat": 4,
 "nbformat_minor": 4
}
