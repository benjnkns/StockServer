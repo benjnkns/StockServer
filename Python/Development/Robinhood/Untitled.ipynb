{
 "cells": [
  {
   "cell_type": "markdown",
   "metadata": {},
   "source": [
    "#### Login"
   ]
  },
  {
   "cell_type": "code",
   "execution_count": 1,
   "metadata": {},
   "outputs": [],
   "source": [
    "import robin_stocks"
   ]
  },
  {
   "cell_type": "code",
   "execution_count": 2,
   "metadata": {},
   "outputs": [],
   "source": [
    "from robin_stocks import *"
   ]
  },
  {
   "cell_type": "code",
   "execution_count": 9,
   "metadata": {},
   "outputs": [
    {
     "ename": "TypeError",
     "evalue": "login() got an unexpected keyword argument 'mfa_code'",
     "output_type": "error",
     "traceback": [
      "\u001b[0;31m---------------------------------------------------------------------------\u001b[0m",
      "\u001b[0;31mTypeError\u001b[0m                                 Traceback (most recent call last)",
      "\u001b[0;32m<ipython-input-9-324ded037a16>\u001b[0m in \u001b[0;36m<module>\u001b[0;34m\u001b[0m\n\u001b[0;32m----> 1\u001b[0;31m \u001b[0mrobin_stocks\u001b[0m\u001b[0;34m.\u001b[0m\u001b[0mlogin\u001b[0m\u001b[0;34m(\u001b[0m\u001b[0;34m\"benjnkns@gmail.com\"\u001b[0m\u001b[0;34m,\u001b[0m\u001b[0;34m\"Guitarist474747123\"\u001b[0m\u001b[0;34m,\u001b[0m \u001b[0mmfa_code\u001b[0m\u001b[0;34m=\u001b[0m\u001b[0;32mNone\u001b[0m\u001b[0;34m)\u001b[0m\u001b[0;34m\u001b[0m\u001b[0;34m\u001b[0m\u001b[0m\n\u001b[0m",
      "\u001b[0;31mTypeError\u001b[0m: login() got an unexpected keyword argument 'mfa_code'"
     ]
    }
   ],
   "source": [
    "robin_stocks.login(\"benjnkns@gmail.com\",\"Guitarist474747123\", mfa_code=None)\n"
   ]
  },
  {
   "cell_type": "code",
   "execution_count": 6,
   "metadata": {},
   "outputs": [
    {
     "data": {
      "text/plain": [
       "<module 'robin_stocks.orders' from '/Library/Frameworks/Python.framework/Versions/3.8/lib/python3.8/site-packages/robin_stocks/orders.py'>"
      ]
     },
     "execution_count": 6,
     "metadata": {},
     "output_type": "execute_result"
    }
   ],
   "source": [
    "robin_stocks.orders"
   ]
  },
  {
   "cell_type": "code",
   "execution_count": 7,
   "metadata": {},
   "outputs": [
    {
     "name": "stdout",
     "output_type": "stream",
     "text": [
      "All Stock Orders Cancelled\n"
     ]
    },
    {
     "data": {
      "text/plain": [
       "[{'id': '43ec659f-cbf0-4e9f-a62e-e05b00734612',\n",
       "  'ref_id': '59049ebf-45fa-4851-8e52-251d02fe95dd',\n",
       "  'url': 'https://api.robinhood.com/orders/43ec659f-cbf0-4e9f-a62e-e05b00734612/',\n",
       "  'account': 'https://api.robinhood.com/accounts/5SO46953/',\n",
       "  'position': 'https://api.robinhood.com/positions/5SO46953/bb9a01df-5982-42d4-88db-8662f23cdab5/',\n",
       "  'cancel': 'https://api.robinhood.com/orders/43ec659f-cbf0-4e9f-a62e-e05b00734612/cancel/',\n",
       "  'instrument': 'https://api.robinhood.com/instruments/bb9a01df-5982-42d4-88db-8662f23cdab5/',\n",
       "  'cumulative_quantity': '0.00000000',\n",
       "  'average_price': None,\n",
       "  'fees': '0.00',\n",
       "  'state': 'confirmed',\n",
       "  'type': 'market',\n",
       "  'side': 'buy',\n",
       "  'time_in_force': 'gtc',\n",
       "  'trigger': 'immediate',\n",
       "  'price': '46.12000000',\n",
       "  'stop_price': None,\n",
       "  'quantity': '20.00000000',\n",
       "  'reject_reason': None,\n",
       "  'created_at': '2020-07-21T12:00:07.039193Z',\n",
       "  'updated_at': '2020-07-28T12:31:08.419381Z',\n",
       "  'last_transaction_at': '2020-07-28T12:30:23.175000Z',\n",
       "  'executions': [],\n",
       "  'extended_hours': False,\n",
       "  'override_dtbp_checks': False,\n",
       "  'override_day_trade_checks': False,\n",
       "  'response_category': None,\n",
       "  'stop_triggered_at': None,\n",
       "  'last_trail_price': None,\n",
       "  'last_trail_price_updated_at': None,\n",
       "  'total_notional': {'amount': '922.40',\n",
       "   'currency_code': 'USD',\n",
       "   'currency_id': '1072fc76-1862-41ab-82c2-485837590762'},\n",
       "  'executed_notional': None,\n",
       "  'investment_schedule_id': None}]"
      ]
     },
     "execution_count": 7,
     "metadata": {},
     "output_type": "execute_result"
    }
   ],
   "source": [
    "robin_stocks.orders.cancel_all_stock_orders()"
   ]
  },
  {
   "cell_type": "code",
   "execution_count": null,
   "metadata": {},
   "outputs": [],
   "source": []
  },
  {
   "cell_type": "code",
   "execution_count": 18,
   "metadata": {},
   "outputs": [
    {
     "name": "stdout",
     "output_type": "stream",
     "text": [
      "GRPN {'price': '21.100000', 'quantity': '1.00000000', 'average_buy_price': '30.9500', 'equity': '21.10', 'percent_change': '-31.83', 'equity_change': '-9.850000', 'type': 'stock', 'name': 'Groupon', 'id': '3c7f9778-5fdc-4206-8e8b-600c1c6f9b12', 'pe_ratio': None, 'percentage': '100.00'}\n"
     ]
    }
   ],
   "source": [
    "my_stocks = robin_stocks.build_holdings()\n",
    "for key, value in my_stocks.items():\n",
    "    print(key, value)"
   ]
  },
  {
   "cell_type": "markdown",
   "metadata": {},
   "source": [
    "#### Buy / Sell"
   ]
  },
  {
   "cell_type": "code",
   "execution_count": 19,
   "metadata": {},
   "outputs": [
    {
     "data": {
      "text/plain": [
       "{'id': '842db5ef-2aa4-4f17-ae3c-72c8223c4561',\n",
       " 'ref_id': '3fabd8f8-14dd-4ba3-a6ce-bbd26737f422',\n",
       " 'url': 'https://api.robinhood.com/orders/842db5ef-2aa4-4f17-ae3c-72c8223c4561/',\n",
       " 'account': 'https://api.robinhood.com/accounts/5SO46953/',\n",
       " 'position': 'https://api.robinhood.com/positions/5SO46953/3c7f9778-5fdc-4206-8e8b-600c1c6f9b12/',\n",
       " 'cancel': 'https://api.robinhood.com/orders/842db5ef-2aa4-4f17-ae3c-72c8223c4561/cancel/',\n",
       " 'instrument': 'https://api.robinhood.com/instruments/3c7f9778-5fdc-4206-8e8b-600c1c6f9b12/',\n",
       " 'cumulative_quantity': '0.00000000',\n",
       " 'average_price': None,\n",
       " 'fees': '0.00',\n",
       " 'state': 'unconfirmed',\n",
       " 'type': 'market',\n",
       " 'side': 'sell',\n",
       " 'time_in_force': 'gtc',\n",
       " 'trigger': 'immediate',\n",
       " 'price': '20.89000000',\n",
       " 'stop_price': None,\n",
       " 'quantity': '1.00000000',\n",
       " 'reject_reason': None,\n",
       " 'created_at': '2020-06-19T04:24:33.321137Z',\n",
       " 'updated_at': '2020-06-19T04:24:33.369628Z',\n",
       " 'last_transaction_at': '2020-06-19T04:24:33.321137Z',\n",
       " 'executions': [],\n",
       " 'extended_hours': False,\n",
       " 'override_dtbp_checks': False,\n",
       " 'override_day_trade_checks': False,\n",
       " 'response_category': None,\n",
       " 'stop_triggered_at': None,\n",
       " 'last_trail_price': None,\n",
       " 'last_trail_price_updated_at': None,\n",
       " 'total_notional': {'amount': '20.89',\n",
       "  'currency_code': 'USD',\n",
       "  'currency_id': '1072fc76-1862-41ab-82c2-485837590762'},\n",
       " 'executed_notional': None,\n",
       " 'investment_schedule_id': None}"
      ]
     },
     "execution_count": 19,
     "metadata": {},
     "output_type": "execute_result"
    }
   ],
   "source": [
    "# Buy 10 shares of Apple at market price\n",
    "# robin_stocks.order_buy_market('AAPL',10)\n",
    "# Sell half a Bitcoin is price reaches 10,000\n",
    "# robin_stocks.order_sell_crypto_limit('BTC',0.5,10000)\n",
    "\n",
    "robin_stocks.order_sell_market('GRPN', 1)"
   ]
  },
  {
   "cell_type": "code",
   "execution_count": 20,
   "metadata": {},
   "outputs": [],
   "source": [
    "#http://www.robin-stocks.com/en/latest/quickstart.html"
   ]
  },
  {
   "cell_type": "code",
   "execution_count": null,
   "metadata": {},
   "outputs": [],
   "source": []
  }
 ],
 "metadata": {
  "kernelspec": {
   "display_name": "Python 3",
   "language": "python",
   "name": "python3"
  },
  "language_info": {
   "codemirror_mode": {
    "name": "ipython",
    "version": 3
   },
   "file_extension": ".py",
   "mimetype": "text/x-python",
   "name": "python",
   "nbconvert_exporter": "python",
   "pygments_lexer": "ipython3",
   "version": "3.8.2"
  }
 },
 "nbformat": 4,
 "nbformat_minor": 4
}
