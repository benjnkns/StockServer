{
 "cells": [
  {
   "cell_type": "code",
   "execution_count": 1,
   "metadata": {},
   "outputs": [
    {
     "name": "stdout",
     "output_type": "stream",
     "text": [
      "importing Jupyter notebook from Main.ipynb\n",
      "importing Jupyter notebook from RobinhoodAPI.ipynb\n",
      "importing Jupyter notebook from RobinhoodAPI.ipynb\n",
      "importing Jupyter notebook from Engine.ipynb\n",
      "importing Jupyter notebook from Data.ipynb\n",
      "importing Jupyter notebook from Analytics.ipynb\n",
      "importing Jupyter notebook from Analytics.ipynb\n",
      "importing Jupyter notebook from Data.ipynb\n",
      "importing Jupyter notebook from Analytics.ipynb\n",
      "importing Jupyter notebook from Models.ipynb\n",
      "importing Jupyter notebook from Models.ipynb\n",
      "importing Jupyter notebook from Engine.ipynb\n",
      "importing Jupyter notebook from Data.ipynb\n",
      "importing Jupyter notebook from Analytics.ipynb\n",
      "importing Jupyter notebook from Models.ipynb\n",
      "importing Jupyter notebook from Main.ipynb\n",
      "importing Jupyter notebook from RobinhoodAPI.ipynb\n",
      "importing Jupyter notebook from Engine.ipynb\n",
      "importing Jupyter notebook from Data.ipynb\n",
      "importing Jupyter notebook from Analytics.ipynb\n",
      "importing Jupyter notebook from Models.ipynb\n"
     ]
    }
   ],
   "source": [
    "import importlib\n",
    "import import_ipynb\n",
    "\n",
    "#MY STUFF\n",
    "import Main\n",
    "importlib.reload(Main)\n",
    "from Main import buy"
   ]
  },
  {
   "cell_type": "code",
   "execution_count": null,
   "metadata": {},
   "outputs": [
    {
     "name": "stdout",
     "output_type": "stream",
     "text": [
      "2021-07-16\n",
      "Loggin into Robinhood...\n",
      "Current OTP: 458013\n",
      "ERROR: There was an issue loading pickle file. Authentication may be expired - logging in normally.\n"
     ]
    },
    {
     "name": "stderr",
     "output_type": "stream",
     "text": [
      "Exception in thread Thread-4:\n",
      "Traceback (most recent call last):\n",
      "  File \"/Library/Frameworks/Python.framework/Versions/3.8/lib/python3.8/threading.py\", line 932, in _bootstrap_inner\n",
      "    self.run()\n",
      "  File \"/Library/Frameworks/Python.framework/Versions/3.8/lib/python3.8/threading.py\", line 870, in run\n",
      "    self._target(*self._args, **self._kwargs)\n",
      "  File \"/Library/Frameworks/Python.framework/Versions/3.8/lib/python3.8/site-packages/multitasking/__init__.py\", line 102, in _run_via_pool\n",
      "    return callee(*args, **kwargs)\n",
      "  File \"/Library/Frameworks/Python.framework/Versions/3.8/lib/python3.8/site-packages/yfinance/multi.py\", line 166, in _download_one_threaded\n",
      "    data = _download_one(ticker, start, end, auto_adjust, back_adjust,\n",
      "  File \"/Library/Frameworks/Python.framework/Versions/3.8/lib/python3.8/site-packages/yfinance/multi.py\", line 178, in _download_one\n",
      "    return Ticker(ticker).history(period=period, interval=interval,\n",
      "  File \"/Library/Frameworks/Python.framework/Versions/3.8/lib/python3.8/site-packages/yfinance/base.py\", line 155, in history\n",
      "    data = data.json()\n",
      "  File \"/Library/Frameworks/Python.framework/Versions/3.8/lib/python3.8/site-packages/requests/models.py\", line 898, in json\n",
      "    return complexjson.loads(self.text, **kwargs)\n",
      "  File \"/Library/Frameworks/Python.framework/Versions/3.8/lib/python3.8/json/__init__.py\", line 357, in loads\n",
      "    return _default_decoder.decode(s)\n",
      "  File \"/Library/Frameworks/Python.framework/Versions/3.8/lib/python3.8/json/decoder.py\", line 337, in decode\n",
      "    obj, end = self.raw_decode(s, idx=_w(s, 0).end())\n",
      "  File \"/Library/Frameworks/Python.framework/Versions/3.8/lib/python3.8/json/decoder.py\", line 355, in raw_decode\n",
      "    raise JSONDecodeError(\"Expecting value\", s, err.value) from None\n",
      "json.decoder.JSONDecodeError: Expecting value: line 1 column 1 (char 0)\n"
     ]
    },
    {
     "name": "stdout",
     "output_type": "stream",
     "text": [
      "Analyzing the Market...\n",
      "Making predictions...\n"
     ]
    }
   ],
   "source": [
    "buy()"
   ]
  },
  {
   "cell_type": "code",
   "execution_count": null,
   "metadata": {},
   "outputs": [],
   "source": []
  }
 ],
 "metadata": {
  "kernelspec": {
   "display_name": "Python 3",
   "language": "python",
   "name": "python3"
  },
  "language_info": {
   "codemirror_mode": {
    "name": "ipython",
    "version": 3
   },
   "file_extension": ".py",
   "mimetype": "text/x-python",
   "name": "python",
   "nbconvert_exporter": "python",
   "pygments_lexer": "ipython3",
   "version": "3.8.2"
  }
 },
 "nbformat": 4,
 "nbformat_minor": 4
}
