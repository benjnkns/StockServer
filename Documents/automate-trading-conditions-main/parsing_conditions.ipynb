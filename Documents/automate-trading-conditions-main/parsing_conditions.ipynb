{
 "cells": [
  {
   "cell_type": "code",
   "execution_count": 2,
   "id": "ba62b70a",
   "metadata": {},
   "outputs": [],
   "source": [
    "from pyparsing import *\n",
    "import pydash\n",
    "import pandas as pd\n",
    "from credentials import ROBIN_USER_NAME, ROBIN_PWD\n",
    "from pydash import at\n",
    "from finviz.screener import Screener\n",
    "import finviz"
   ]
  },
  {
   "cell_type": "code",
   "execution_count": 3,
   "id": "a9458a28",
   "metadata": {},
   "outputs": [],
   "source": [
    "def parse_overall_logic(logic_condition):\n",
    "    \n",
    "    condition_start = Keyword(\"if\")\n",
    "\n",
    "    result = Keyword(\"then\")\n",
    "\n",
    "    final = Keyword(\"else\")\n",
    "\n",
    "    condition_end = Word(alphanums + \"._,()[]=><!$#-\") | quotedString\n",
    "\n",
    "    value =  Word(alphanums + \"-._,()[]=><!$#\") | quotedString\n",
    "\n",
    "    grammar = (condition_start.suppress() + Group(OneOrMore(condition_end, stopOn=result).setParseAction(\" \".join) + \\\n",
    "                result.suppress() + value )) + Group(final +value) \n",
    "    \n",
    "    parsed_string = grammar.parseString(logic_condition)\n",
    "    \n",
    "    parse_initial_ticker_cdt = list(parse_inital_ticker(parsed_string[0][0])[0])\n",
    "    parse_trade_logic_cdt = list(parse_trade_logic(parsed_string[0][1])[0])\n",
    "\n",
    "    \n",
    "    return (parse_initial_ticker_cdt, parse_trade_logic_cdt)"
   ]
  },
  {
   "cell_type": "code",
   "execution_count": 4,
   "id": "2d42639c",
   "metadata": {},
   "outputs": [],
   "source": [
    "def parse_inital_ticker(initial_condition):\n",
    "    begin = Word(\"#\")\n",
    "    ticker = Word(alphanums)\n",
    "    mid = Word(\"<>=\")\n",
    "    end = Word(nums+'-')\n",
    "    \n",
    "    return Group(begin+ticker+mid+end).parseString(initial_condition)"
   ]
  },
  {
   "cell_type": "code",
   "execution_count": 5,
   "id": "2208bae0",
   "metadata": {},
   "outputs": [],
   "source": [
    "def parse_trade_logic(condition):\n",
    "    \n",
    "    begin = (Keyword(\"buy\") | Keyword(\"sell\"))\n",
    "    \n",
    "    return Group(Literal(\"'\") +begin + (Literal(\"$\") | Literal('@')) + Word(nums)).parseString(condition)"
   ]
  },
  {
   "cell_type": "code",
   "execution_count": 7,
   "id": "43edcaf3",
   "metadata": {},
   "outputs": [
    {
     "data": {
      "text/plain": [
       "['#', 'tsla', '<', '-5', \"'\", 'buy', '$', '500']"
      ]
     },
     "execution_count": 7,
     "metadata": {},
     "output_type": "execute_result"
    }
   ],
   "source": [
    "pydash.flatten(parse_overall_logic(\"if #tsla < -5 then 'buy $500' else 0\"))"
   ]
  },
  {
   "cell_type": "code",
   "execution_count": 31,
   "id": "c93dc41e",
   "metadata": {
    "scrolled": true
   },
   "outputs": [],
   "source": [
    "def parse_all_conditions():\n",
    "    \n",
    "    conditions_df = pd.read_csv('conditions.csv')\n",
    "    \n",
    "    parsed_conditions = []\n",
    "\n",
    "    for item in conditions_df.iterrows():\n",
    "        category = item[1][0]\n",
    "        condition_str = item[1][1]\n",
    "\n",
    "        parsed_conditions.append(pydash.flatten(parse_overall_logic(condition_str)))\n",
    "    \n",
    "    conditions_df['parsed_conditions'] = parsed_conditions\n",
    "    \n",
    "    all_tickers = []\n",
    "\n",
    "    for parsed_condition in parsed_conditions:\n",
    "\n",
    "        if parsed_condition[0] != '#':\n",
    "            print(\"Issue with ticker. Use upper case!\")\n",
    "        if parsed_condition[2] not in ['<','>','=']:\n",
    "            print(\"Condition not regoginized\")\n",
    "        if not parsed_condition[3].isnumeric() and not parsed_condition[7].isnumeric() :\n",
    "            print(\"stock condition number not regoginized \")\n",
    "\n",
    "        if parsed_condition[5].lower() not in ['buy','sell'] :\n",
    "            print(\"Buy or sell not regoginzed \")\n",
    "        if parsed_condition[6] not in ['$','@'] :\n",
    "            print(\"amount symbol not regonized\")\n",
    "\n",
    "        all_tickers.append(parsed_condition[1])\n",
    "        \n",
    "        \n",
    "    return conditions_df\n"
   ]
  },
  {
   "cell_type": "code",
   "execution_count": null,
   "id": "0d24cd7b",
   "metadata": {},
   "outputs": [],
   "source": [
    "\n",
    "def can_buy(profile, amount, type =\"stocks\"):\n",
    "\n",
    "    buying_power = float(profile['buying_power'])\n",
    "    margin_cash = float(profile['margin_balances']['unallocated_margin_cash'])\n",
    "    crypto_cash = float(profile['crypto_buying_power'])\n",
    "\n",
    "\n",
    "    if type ==\"stocks\" and buying_power >= amount and margin_cash >= amount:\n",
    "        return True\n",
    "    elif type ==\"crypto\" and crypto_cash >= amount:\n",
    "        return True\n",
    "    else:\n",
    "        return False\n"
   ]
  },
  {
   "cell_type": "code",
   "execution_count": 32,
   "id": "f85c648f",
   "metadata": {},
   "outputs": [],
   "source": [
    "def perform_buy_sell(conditions_df):\n",
    "    \n",
    "    #stock_positions = get_robinhood_positions(lagging = True)\n",
    "\n",
    "    #profile = r.profiles.load_account_profile()\n",
    "\n",
    "    \n",
    "    for condition in conditions_df.iterrows():\n",
    "\n",
    "        category = condition[1][0]\n",
    "        parsed_condition = condition[1][2]\n",
    "\n",
    "        print(parsed_condition)\n",
    "\n",
    "        ticker_price = str(float((at(finviz.get_stock(parsed_condition[1]),'Price')[0])))\n",
    "\n",
    "        ticker_pct = str(float((at(finviz.get_stock(parsed_condition[1]),'Change')[0]).split('%')[0]))\n",
    "\n",
    "        condition_price_str = \"1 if \"+ticker_price+' '+parsed_condition[2]+' '+parsed_condition[3]+\" else 0\"\n",
    "        condition_pct_str = \"1 if \"+ticker_pct+' '+parsed_condition[2]+' '+parsed_condition[3]+\" else 0\"\n",
    "\n",
    "        if category =='price':\n",
    "\n",
    "\n",
    "            if eval(condition_price_str) ==1 \\\n",
    "                   and parsed_condition[5] =='buy':\n",
    "\n",
    "                #r.orders.order_buy_fractional_by_price(symbol = parsed_condition[1], amountInDollars=parsed_condition[-1])\n",
    "\n",
    "                #Use your brokerage API to buy here\n",
    "                print(f\"Buying {parsed_condition[-1]} of {parsed_condition[1]}\" )\n",
    "\n",
    "            # If you are okay, with short sell, you do not have to even hold the stock\n",
    "            elif eval(condition_price_str) ==1 \\\n",
    "                   and parsed_condition[5] =='sell':\n",
    "\n",
    "                #Use your brokerage API to sell here\n",
    "                print(f\"Selling {parsed_condition[-1]} of {parsed_condition[1]}\" )\n",
    "\n",
    "        elif category =='pct':\n",
    "\n",
    "            if eval(condition_pct_str) ==1 \\\n",
    "                   and parsed_condition[5] =='buy':\n",
    "                \n",
    "                #Use your brokerage API to buy here\n",
    "                #r.orders.order(symbol = parsed_condition[1],side=parsed_condition[5], quantity=parsed_condition[-1])\n",
    "                print(f\"Buying {parsed_condition[-1]} of {parsed_condition[1]}\" )\n",
    "\n",
    "            elif eval(condition_pct_str) ==1 \\\n",
    "                   and parsed_condition[5] =='sell':\n",
    "\n",
    "                #Use your brokerage API to sell here\n",
    "\n",
    "                print(f\"Selling {parsed_condition[-1]} of {parsed_condition[1]}\" )\n"
   ]
  },
  {
   "cell_type": "code",
   "execution_count": 33,
   "id": "82095589",
   "metadata": {},
   "outputs": [],
   "source": [
    "conditions_df = parse_all_conditions()"
   ]
  },
  {
   "cell_type": "code",
   "execution_count": 34,
   "id": "89414398",
   "metadata": {},
   "outputs": [
    {
     "data": {
      "text/html": [
       "<div>\n",
       "<style scoped>\n",
       "    .dataframe tbody tr th:only-of-type {\n",
       "        vertical-align: middle;\n",
       "    }\n",
       "\n",
       "    .dataframe tbody tr th {\n",
       "        vertical-align: top;\n",
       "    }\n",
       "\n",
       "    .dataframe thead th {\n",
       "        text-align: right;\n",
       "    }\n",
       "</style>\n",
       "<table border=\"1\" class=\"dataframe\">\n",
       "  <thead>\n",
       "    <tr style=\"text-align: right;\">\n",
       "      <th></th>\n",
       "      <th>Category</th>\n",
       "      <th>Logic</th>\n",
       "      <th>parsed_conditions</th>\n",
       "    </tr>\n",
       "  </thead>\n",
       "  <tbody>\n",
       "    <tr>\n",
       "      <th>0</th>\n",
       "      <td>pct</td>\n",
       "      <td>if #tsla  &lt; -5 then 'buy $500' else 0</td>\n",
       "      <td>[#, tsla, &lt;, -5, ', buy, $, 500]</td>\n",
       "    </tr>\n",
       "    <tr>\n",
       "      <th>1</th>\n",
       "      <td>price</td>\n",
       "      <td>if #tsla  &lt; 500 then 'buy $1000' else 0</td>\n",
       "      <td>[#, tsla, &lt;, 500, ', buy, $, 1000]</td>\n",
       "    </tr>\n",
       "    <tr>\n",
       "      <th>2</th>\n",
       "      <td>price</td>\n",
       "      <td>if #U  &gt; 150 then 'sell @2 stocks' else 0</td>\n",
       "      <td>[#, U, &gt;, 150, ', sell, @, 2]</td>\n",
       "    </tr>\n",
       "    <tr>\n",
       "      <th>3</th>\n",
       "      <td>price</td>\n",
       "      <td>if #U  &gt; 150 then 'sell @2 stocks' else 0</td>\n",
       "      <td>[#, U, &gt;, 150, ', sell, @, 2]</td>\n",
       "    </tr>\n",
       "    <tr>\n",
       "      <th>4</th>\n",
       "      <td>price</td>\n",
       "      <td>if #U  &lt; 105 then 'buy @2 stocks' else 0</td>\n",
       "      <td>[#, U, &lt;, 105, ', buy, @, 2]</td>\n",
       "    </tr>\n",
       "  </tbody>\n",
       "</table>\n",
       "</div>"
      ],
      "text/plain": [
       "  Category                                      Logic  \\\n",
       "0      pct      if #tsla  < -5 then 'buy $500' else 0   \n",
       "1    price    if #tsla  < 500 then 'buy $1000' else 0   \n",
       "2    price  if #U  > 150 then 'sell @2 stocks' else 0   \n",
       "3    price  if #U  > 150 then 'sell @2 stocks' else 0   \n",
       "4    price   if #U  < 105 then 'buy @2 stocks' else 0   \n",
       "\n",
       "                    parsed_conditions  \n",
       "0    [#, tsla, <, -5, ', buy, $, 500]  \n",
       "1  [#, tsla, <, 500, ', buy, $, 1000]  \n",
       "2       [#, U, >, 150, ', sell, @, 2]  \n",
       "3       [#, U, >, 150, ', sell, @, 2]  \n",
       "4        [#, U, <, 105, ', buy, @, 2]  "
      ]
     },
     "execution_count": 34,
     "metadata": {},
     "output_type": "execute_result"
    }
   ],
   "source": [
    "conditions_df.head()"
   ]
  },
  {
   "cell_type": "code",
   "execution_count": 35,
   "id": "758238cd",
   "metadata": {},
   "outputs": [
    {
     "name": "stdout",
     "output_type": "stream",
     "text": [
      "['#', 'tsla', '<', '-5', \"'\", 'buy', '$', '500']\n",
      "['#', 'tsla', '<', '500', \"'\", 'buy', '$', '1000']\n",
      "['#', 'U', '>', '150', \"'\", 'sell', '@', '2']\n",
      "['#', 'U', '>', '150', \"'\", 'sell', '@', '2']\n",
      "['#', 'U', '<', '105', \"'\", 'buy', '@', '2']\n",
      "Buying 2 of U\n",
      "['#', 'AMZN', '>', '2', \"'\", 'buy', '$', '500']\n",
      "Buying 500 of AMZN\n",
      "['#', 'HP', '<', '-5', \"'\", 'buy', '@', '10']\n",
      "Buying 10 of HP\n"
     ]
    }
   ],
   "source": [
    "perform_buy_sell(conditions_df)"
   ]
  },
  {
   "cell_type": "code",
   "execution_count": null,
   "id": "8b88154a",
   "metadata": {},
   "outputs": [],
   "source": []
  }
 ],
 "metadata": {
  "kernelspec": {
   "display_name": "Python 3",
   "language": "python",
   "name": "python3"
  },
  "language_info": {
   "codemirror_mode": {
    "name": "ipython",
    "version": 3
   },
   "file_extension": ".py",
   "mimetype": "text/x-python",
   "name": "python",
   "nbconvert_exporter": "python",
   "pygments_lexer": "ipython3",
   "version": "3.6.9"
  }
 },
 "nbformat": 4,
 "nbformat_minor": 5
}